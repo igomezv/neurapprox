{
 "cells": [
  {
   "cell_type": "markdown",
   "metadata": {},
   "source": [
    "# Optimización de funciones de una variable"
   ]
  },
  {
   "cell_type": "markdown",
   "metadata": {},
   "source": [
    "## Objetivo: Mostrar las ventajas del uso de algoritmos genéticos como herramientas de optimización de funciones.\n",
    "### Para mayor claridad, se muestran funciones de una variabla. El método es facilmente generalizable.\n",
    "### La meta de este ejercicio es reproducir los resultados del artículo de Dezdemona Gjylapi y Vladimir Kasëmi: \n",
    "[The Genetic Algorithm for finding the maxima of single-variable functions](https://www.researchgate.net/publication/309616654_The_Genetic_Algorithm_for_finding_the_maxima_of_single-variable_functions)"
   ]
  },
  {
   "cell_type": "code",
   "execution_count": 1,
   "metadata": {},
   "outputs": [],
   "source": [
    "import numpy as np\n",
    "import matplotlib.pyplot as plt\n",
    "\n",
    "from scipy.optimize import minimize\n",
    "import random\n",
    "\n",
    "\n",
    "# Importamos los módulos relevantes de la libreria de algoritmos evolutivos \n",
    "\n",
    "from deap import base, creator, tools, algorithms\n",
    "\n",
    "# Importamos este módulo independiente para implementar elitismo, adjunto en la carpeta fuente. \n",
    "\n",
    "import elitism"
   ]
  },
  {
   "cell_type": "markdown",
   "metadata": {},
   "source": [
    "### Definimos cada una de las funciones trabajadas en el artículo de Gjylapi:"
   ]
  },
  {
   "cell_type": "code",
   "execution_count": 2,
   "metadata": {},
   "outputs": [],
   "source": [
    "def polynomial(x):\n",
    "    y =  - x**6/60 - x**5/50 + x**4/2 + 2*x**3/3 - 3.2*x**2 - 6.4*x\n",
    "    return y\n",
    "\n",
    "def rational(x):\n",
    "    y = -(x**6 + x**5 - 10*x**2 - 10*x - 12)/(x**2 + 6)\n",
    "    return y\n",
    "\n",
    "def irrational(x):\n",
    "    y = 5 - np.sqrt(x**4 + 2*x**3 - 3*x**2 + 13)\n",
    "    return y\n",
    "\n",
    "def trigonometric(x):\n",
    "    y =  np.sin(3*x + 45)**2 + 0.9*np.sin(9*x)**3 - np.sin(15*x + 50) - np.cos(2*x - 30)\n",
    "    return y\n",
    "\n",
    "def asymptoteV(x):\n",
    "    if -0.05 <= x <= 0.05:   # Para evitar la discontinuidad, definimos un valor \"razonable\"\n",
    "        y = 0\n",
    "    else:\n",
    "        y = (np.sin(2*np.pi*x) - np.cos(3*np.pi*x))/x\n",
    "    return y\n",
    "\n",
    "def asymptoteH(x):\n",
    "    if -0.05 <= x <= 0.05:  \n",
    "        y = -16               # Para evitar la discontinuidad\n",
    "    else:\n",
    "        y = (2*x - 1)/(x**2)\n",
    "    return y\n",
    "\n",
    "def logarithmic(x):\n",
    "    y = -x**4*(np.log(abs(x)) - 1)\n",
    "    return y\n",
    "\n",
    "def exponential(x):\n",
    "    if -0.01 <= x <= 0.01:\n",
    "        y = -10                 # Para evitar la discontinuidad\n",
    "    else:\n",
    "        y = np.exp(-x)*(np.log(abs(x)) + x/(abs(x)))\n",
    "    return y"
   ]
  },
  {
   "cell_type": "markdown",
   "metadata": {},
   "source": [
    "### Elejimos una de las funciones, la graficamos y analizamos"
   ]
  },
  {
   "cell_type": "code",
   "execution_count": 3,
   "metadata": {},
   "outputs": [],
   "source": [
    "fun = np.vectorize(lambda x: polynomial(x)) # Elegir alguna función de arriba."
   ]
  },
  {
   "cell_type": "code",
   "execution_count": 4,
   "metadata": {},
   "outputs": [
    {
     "data": {
      "image/png": "[encoded data removed]",
      "text/plain": [
       "<Figure size 720x504 with 1 Axes>"
      ]
     },
     "metadata": {
      "needs_background": "light"
     },
     "output_type": "display_data"
    }
   ],
   "source": [
    "xs = np.arange(-5.0, 5.0, 0.01) # Ajustar el dominio de la función según se ve en el artículo\n",
    "\n",
    "plt.figure(figsize=(10, 7))\n",
    "plt.grid(True)\n",
    "plt.xlabel(\"x\")\n",
    "plt.ylim(-15, 15) # Ajustar los límites para que luzca como en el artículo\n",
    "plt.ylabel(\"y(x)\")\n",
    "plt.plot(xs, fun(xs))\n",
    "plt.show()"
   ]
  },
  {
   "cell_type": "markdown",
   "metadata": {},
   "source": [
    "### Primero usemos el método minimize de scipy para optimizar la función, y comprobemos su desempeño"
   ]
  },
  {
   "cell_type": "code",
   "execution_count": 5,
   "metadata": {},
   "outputs": [
    {
     "name": "stdout",
     "output_type": "stream",
     "text": [
      "Convergencia:  True\n",
      "X_min =  [-1.9999993]\n",
      "Y_min =  [2.24]\n"
     ]
    }
   ],
   "source": [
    "x = -3.6  # Este valor inicial se puede modificar. Se sugiere cambiarlo para experimentar.\n",
    "result = minimize(fun, x, bounds = [(-5., 5.)]) # Ajustar los límites, según la función a trabajar.\n",
    "x_min = result.x\n",
    "y_min = result.fun\n",
    "\n",
    "print(\"Convergencia: \", result.success)\n",
    "print(\"X_min = \", x_min)\n",
    "print(\"Y_min = \", y_min)\n",
    "\n",
    "# El método anterior sirve para obtener el mínimo. ¿Cómo obtenemos el máximo de la función?"
   ]
  },
  {
   "cell_type": "markdown",
   "metadata": {},
   "source": [
    "## Algoritmos Genéticos"
   ]
  },
  {
   "cell_type": "markdown",
   "metadata": {},
   "source": [
    "### Aquí usamos la librería DEAP para implementar lo optimización con un algoritmo genético."
   ]
  },
  {
   "cell_type": "code",
   "execution_count": 6,
   "metadata": {},
   "outputs": [],
   "source": [
    "# Constantes del problema:\n",
    "DIMENSIONS = 1  # Número de dimensiones \n",
    "BOUND_LOW, BOUND_UP = -4.0, 4.0  # Ajustar los límites de la variable independiente"
   ]
  },
  {
   "cell_type": "code",
   "execution_count": 7,
   "metadata": {},
   "outputs": [],
   "source": [
    "# Parámetros del algoritmo:\n",
    "POPULATION_SIZE = 10 # A mayor cantidad, mejor desempeño pero mayor cómputo\n",
    "P_CROSSOVER = 0.8  # Probabilidad de cruza: 0.8 es valor típico\n",
    "P_MUTATION = 0.3   # Probabilidad de mutación individual, puede ser entre 0.1 y 0.5.\n",
    "MAX_GENERATIONS = 50  # A mayor cantidad, mejor desempeño pero mayor cómputo\n",
    "HALL_OF_FAME_SIZE = 1 # Cantidad de mejores individuos que pasan íntegramente a la siguiente generación \n",
    "CROWDING_FACTOR = 20.0  # factor no relevante en todas las técnicas"
   ]
  },
  {
   "cell_type": "code",
   "execution_count": 8,
   "metadata": {},
   "outputs": [],
   "source": [
    "# Para fijar la población inicial:\n",
    "RANDOM_SEED = 42\n",
    "random.seed(RANDOM_SEED)"
   ]
  },
  {
   "cell_type": "code",
   "execution_count": 9,
   "metadata": {},
   "outputs": [],
   "source": [
    "toolbox = base.Toolbox() # Herramienta estructural de DEAP"
   ]
  },
  {
   "cell_type": "markdown",
   "metadata": {},
   "source": [
    "### Las siguientes instrucciones generales crean nuevas clases en DEAP. Correr una sola vez para evitar dificultades"
   ]
  },
  {
   "cell_type": "code",
   "execution_count": 10,
   "metadata": {},
   "outputs": [],
   "source": [
    "# Define la estrategia de optimización:\n",
    "# creator.create(\"FitnessMax\", base.Fitness, weights=(1.0,))  # Para hallar máximo\n",
    "creator.create(\"FitnessMin\", base.Fitness, weights=(-1.0,)) # Para hallar mínimo"
   ]
  },
  {
   "cell_type": "code",
   "execution_count": 11,
   "metadata": {},
   "outputs": [],
   "source": [
    "# Crea la clase individuos:\n",
    "#creator.create(\"Individual\", list, fitness=creator.FitnessMax)\n",
    "creator.create(\"Individual\", list, fitness=creator.FitnessMin)"
   ]
  },
  {
   "cell_type": "markdown",
   "metadata": {},
   "source": [
    "### La siguiente es una instrucción especifica para la optimización númerica"
   ]
  },
  {
   "cell_type": "code",
   "execution_count": 12,
   "metadata": {},
   "outputs": [],
   "source": [
    "# Crea poblaciones como números aleatorios distribuidos entre las mismas fronteras\n",
    "def randomFloat(low, up):\n",
    "    return [random.uniform(l, u) for l, u in zip([low] * DIMENSIONS, [up] * DIMENSIONS)]"
   ]
  },
  {
   "cell_type": "markdown",
   "metadata": {},
   "source": [
    "### Las siguientes son instrucciones generales"
   ]
  },
  {
   "cell_type": "code",
   "execution_count": 13,
   "metadata": {},
   "outputs": [],
   "source": [
    "# Crea un flotante a partir de lo anterior.\n",
    "toolbox.register(\"attrFloat\", randomFloat, BOUND_LOW, BOUND_UP)"
   ]
  },
  {
   "cell_type": "code",
   "execution_count": 14,
   "metadata": {},
   "outputs": [],
   "source": [
    "# Crea un individo, a partir de lo anterior.\n",
    "toolbox.register(\"individualCreator\", tools.initIterate, creator.Individual, toolbox.attrFloat)"
   ]
  },
  {
   "cell_type": "code",
   "execution_count": 15,
   "metadata": {},
   "outputs": [],
   "source": [
    "# Crea una población de individuos:\n",
    "toolbox.register(\"populationCreator\", tools.initRepeat, list, toolbox.individualCreator)"
   ]
  },
  {
   "cell_type": "code",
   "execution_count": 16,
   "metadata": {},
   "outputs": [],
   "source": [
    "# Evalua la función elegida\n",
    "toolbox.register(\"evaluate\", fun) # Actualizar esta celda cada que se elija una nueva función"
   ]
  },
  {
   "cell_type": "code",
   "execution_count": 17,
   "metadata": {},
   "outputs": [],
   "source": [
    "# Operadores genéticos:\n",
    "toolbox.register(\"select\", tools.selTournament, tournsize=2) # Selección por torneo de tamaño 2\n",
    "toolbox.register(\"mate\", tools.cxSimulatedBinaryBounded, low=BOUND_LOW, up=BOUND_UP, eta=CROWDING_FACTOR)\n",
    "toolbox.register(\"mutate\", tools.mutPolynomialBounded, low=BOUND_LOW, up=BOUND_UP, \n",
    "                 eta=CROWDING_FACTOR, indpb=1.0/DIMENSIONS)"
   ]
  },
  {
   "cell_type": "markdown",
   "metadata": {},
   "source": [
    "### Flujo principal del algoritmo genetico: usar cada que se desee correr de nuevo el AG"
   ]
  },
  {
   "cell_type": "code",
   "execution_count": 18,
   "metadata": {},
   "outputs": [],
   "source": [
    "def main():\n",
    "\n",
    "    # Crea la población inicial (generación 0):\n",
    "    population = toolbox.populationCreator(n=POPULATION_SIZE)\n",
    "\n",
    "    # Guarda datos estadísticos:\n",
    "    stats = tools.Statistics(lambda ind: ind.fitness.values)\n",
    "#    stats.register(\"max\", np.max)   # Elegir cuando se busque maximizar\n",
    "    stats.register(\"min\", np.min)   # Elegir cuando se desee minimizar\n",
    "    stats.register(\"avg\", np.mean)\n",
    "\n",
    "    # Define el Salón de la fama para implementar elitismo:\n",
    "    hof = tools.HallOfFame(HALL_OF_FAME_SIZE)\n",
    "\n",
    "    # Incorpora elitismo en el AG:\n",
    "    population, logbook = elitism.eaSimpleWithElitism(population, toolbox, cxpb=P_CROSSOVER, mutpb=P_MUTATION,\n",
    "                                              ngen=MAX_GENERATIONS, stats=stats, halloffame=hof, verbose=True)\n",
    "\n",
    "    # Imprime la mejor solución encontrada:\n",
    "    best = hof.items[0]\n",
    "    print(\"-- Best Individual = \", best)\n",
    "    print(\"-- Best Fitness = \", best.fitness.values[0])\n",
    "    print(\"- Best solutions are:\")\n",
    "    for i in range(HALL_OF_FAME_SIZE):\n",
    "        print(i, \": \", hof.items[i].fitness.values[0], \" -> \", hof.items[i])\n",
    "\n",
    "    # Estrae los datos estadísticos:\n",
    "    gen, avg, min_, max_ = logbook.select(\"gen\", \"avg\", \"min\", \"max\")\n",
    "\n",
    "    return population, logbook, hof"
   ]
  },
  {
   "cell_type": "code",
   "execution_count": 19,
   "metadata": {},
   "outputs": [
    {
     "name": "stdout",
     "output_type": "stream",
     "text": [
      "gen\tnevals\tmin     \tavg     \n",
      "0  \t10    \t-13.8906\t-0.16872\n",
      "1  \t9     \t-13.8906\t-4.32709\n",
      "2  \t5     \t-13.9725\t-7.46178\n",
      "3  \t4     \t-13.9725\t-11.3487\n",
      "4  \t8     \t-13.9725\t-13.1286\n",
      "5  \t8     \t-13.9725\t-13.5948\n",
      "6  \t7     \t-13.9725\t-13.6901\n",
      "7  \t8     \t-13.9725\t-13.7463\n",
      "8  \t4     \t-13.9725\t-13.5102\n",
      "9  \t7     \t-13.9731\t-13.6467\n",
      "10 \t6     \t-13.9731\t-13.9003\n",
      "11 \t6     \t-13.9731\t-13.6631\n",
      "12 \t7     \t-13.9731\t-13.9589\n",
      "13 \t4     \t-13.9731\t-13.7782\n",
      "14 \t8     \t-13.9731\t-13.8813\n",
      "15 \t6     \t-13.9731\t-13.6258\n",
      "16 \t8     \t-13.9731\t-13.8822\n",
      "17 \t7     \t-13.9731\t-13.5454\n",
      "18 \t7     \t-13.9731\t-13.7298\n",
      "19 \t8     \t-13.9731\t-13.9684\n",
      "20 \t7     \t-13.9731\t-13.6653\n",
      "21 \t7     \t-13.9731\t-13.5094\n",
      "22 \t8     \t-13.9731\t-13.0511\n",
      "23 \t7     \t-13.9731\t-13.837 \n",
      "24 \t8     \t-13.9731\t-13.1265\n",
      "25 \t7     \t-13.9731\t-13.2254\n",
      "26 \t6     \t-13.9731\t-13.2626\n",
      "27 \t7     \t-13.9731\t-13.7669\n",
      "28 \t7     \t-13.9731\t-13.7612\n",
      "29 \t8     \t-13.9731\t-13.7368\n",
      "30 \t9     \t-13.9733\t-13.4244\n",
      "31 \t7     \t-13.9733\t-12.9109\n",
      "32 \t8     \t-13.9733\t-13.1098\n",
      "33 \t8     \t-13.9733\t-13.6387\n",
      "34 \t7     \t-13.9733\t-13.6969\n",
      "35 \t6     \t-13.9733\t-13.7612\n",
      "36 \t7     \t-13.9733\t-13.2991\n",
      "37 \t8     \t-13.9733\t-13.5427\n",
      "38 \t7     \t-13.9733\t-13.863 \n",
      "39 \t7     \t-13.9733\t-13.4533\n",
      "40 \t7     \t-13.9733\t-11.2223\n",
      "41 \t7     \t-13.9733\t-13.3317\n",
      "42 \t8     \t-13.9733\t-13.6926\n",
      "43 \t7     \t-13.9733\t-12.3298\n",
      "44 \t8     \t-13.9733\t-13.9636\n",
      "45 \t6     \t-13.9733\t-13.7758\n",
      "46 \t6     \t-13.9733\t-13.9007\n",
      "47 \t6     \t-13.9733\t-13.3981\n",
      "48 \t7     \t-13.9733\t-13.9533\n",
      "49 \t4     \t-13.9733\t-13.5621\n",
      "50 \t9     \t-13.9733\t-13.9731\n",
      "-- Best Individual =  [2.0000041694948036]\n",
      "-- Best Fitness =  -13.973333333208164\n",
      "- Best solutions are:\n",
      "0 :  -13.973333333208164  ->  [2.0000041694948036]\n"
     ]
    },
    {
     "data": {
      "image/png": "[encoded data removed]",
      "text/plain": [
       "<Figure size 432x288 with 1 Axes>"
      ]
     },
     "metadata": {
      "needs_background": "light"
     },
     "output_type": "display_data"
    }
   ],
   "source": [
    "# Llama al flujo principal y muestra los resultados\n",
    "\n",
    "if __name__ == \"__main__\":\n",
    "    pop, log, hof = main()\n",
    "    \n",
    "    gen, avg, min_, max_ = log.select(\"gen\", \"avg\", \"min\", \"max\")\n",
    "    \n",
    "    best = hof.items[0]\n",
    "    \n",
    "    plt.figure()\n",
    "    plt.plot(gen, min_, label=\"Minimum\") # Elegir para mostrar la evolución del mejor fitness al minimizar\n",
    "#    plt.plot(gen, max_, label=\"Maximum\") # Elegir para mostrar la evolución del mejor fitness al maxmizar\n",
    "#    plt.plot(gen, avg, label=\"Average\") # Elegir para mostrar la evolución del promedio del fitness\n",
    "    plt.title(\"Fitness Evolution\")\n",
    "    plt.xlabel(\"Generation\")\n",
    "    plt.ylabel(\"Fitness\")\n",
    "    plt.legend(loc=\"lower right\")\n",
    "    plt.show()"
   ]
  },
  {
   "cell_type": "code",
   "execution_count": null,
   "metadata": {},
   "outputs": [],
   "source": []
  }
 ],
 "metadata": {
  "kernelspec": {
   "display_name": "Python 3",
   "language": "python",
   "name": "python3"
  },
  "language_info": {
   "codemirror_mode": {
    "name": "ipython",
    "version": 3
   },
   "file_extension": ".py",
   "mimetype": "text/x-python",
   "name": "python",
   "nbconvert_exporter": "python",
   "pygments_lexer": "ipython3",
   "version": "3.7.3"
  }
 },
 "nbformat": 4,
 "nbformat_minor": 2
}
