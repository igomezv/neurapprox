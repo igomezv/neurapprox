{
 "cells": [
  {
   "cell_type": "code",
   "execution_count": 1,
   "metadata": {},
   "outputs": [],
   "source": [
    "import numpy as np\n",
    "import pandas as pd\n",
    "import time, os\n",
    "\n",
    "import tensorflow as tf\n",
    "from tensorflow import keras\n",
    "from tensorflow.keras.layers import Input, Dense\n",
    "from tensorflow.keras.utils import to_categorical\n",
    "from tensorboard.plugins.hparams import api as hp\n",
    "\n",
    "from tensorflow.keras.losses import CategoricalCrossentropy\n",
    "from tensorflow.keras.models import Model\n",
    "\n",
    "from sklearn.preprocessing import StandardScaler, MinMaxScaler\n",
    "from sklearn.model_selection import train_test_split as split\n",
    "\n",
    "import random\n",
    "from math import floor\n",
    "from tensorflow.keras import models\n",
    "from tensorflow.keras import layers\n",
    "from tensorflow.keras import optimizers\n",
    "from scipy.integrate import odeint\n",
    "import scipy\n",
    "import pandas as pd\n",
    "import matplotlib.pyplot as plt\n",
    "np.random.seed(0)"
   ]
  },
  {
   "cell_type": "code",
   "execution_count": 21,
   "metadata": {},
   "outputs": [
    {
     "data": {
      "text/html": [
       "<div>\n",
       "<style scoped>\n",
       "    .dataframe tbody tr th:only-of-type {\n",
       "        vertical-align: middle;\n",
       "    }\n",
       "\n",
       "    .dataframe tbody tr th {\n",
       "        vertical-align: top;\n",
       "    }\n",
       "\n",
       "    .dataframe thead th {\n",
       "        text-align: right;\n",
       "    }\n",
       "</style>\n",
       "<table border=\"1\" class=\"dataframe\">\n",
       "  <thead>\n",
       "    <tr style=\"text-align: right;\">\n",
       "      <th></th>\n",
       "      <th>zcmb</th>\n",
       "      <th>mb</th>\n",
       "      <th>dmb</th>\n",
       "      <th>errors</th>\n",
       "    </tr>\n",
       "  </thead>\n",
       "  <tbody>\n",
       "    <tr>\n",
       "      <th>0</th>\n",
       "      <td>0.503084</td>\n",
       "      <td>23.001698</td>\n",
       "      <td>0.088031</td>\n",
       "      <td>0.120219</td>\n",
       "    </tr>\n",
       "    <tr>\n",
       "      <th>1</th>\n",
       "      <td>0.580724</td>\n",
       "      <td>23.573937</td>\n",
       "      <td>0.090132</td>\n",
       "      <td>0.121435</td>\n",
       "    </tr>\n",
       "    <tr>\n",
       "      <th>2</th>\n",
       "      <td>0.494795</td>\n",
       "      <td>22.960139</td>\n",
       "      <td>0.088110</td>\n",
       "      <td>0.089552</td>\n",
       "    </tr>\n",
       "    <tr>\n",
       "      <th>3</th>\n",
       "      <td>0.345928</td>\n",
       "      <td>22.398137</td>\n",
       "      <td>0.087263</td>\n",
       "      <td>0.119729</td>\n",
       "    </tr>\n",
       "    <tr>\n",
       "      <th>4</th>\n",
       "      <td>0.677662</td>\n",
       "      <td>24.078115</td>\n",
       "      <td>0.098356</td>\n",
       "      <td>0.100088</td>\n",
       "    </tr>\n",
       "    <tr>\n",
       "      <th>...</th>\n",
       "      <td>...</td>\n",
       "      <td>...</td>\n",
       "      <td>...</td>\n",
       "      <td>...</td>\n",
       "    </tr>\n",
       "    <tr>\n",
       "      <th>735</th>\n",
       "      <td>0.027064</td>\n",
       "      <td>16.504006</td>\n",
       "      <td>0.141685</td>\n",
       "      <td>0.185894</td>\n",
       "    </tr>\n",
       "    <tr>\n",
       "      <th>736</th>\n",
       "      <td>0.025468</td>\n",
       "      <td>15.797848</td>\n",
       "      <td>0.143429</td>\n",
       "      <td>0.193666</td>\n",
       "    </tr>\n",
       "    <tr>\n",
       "      <th>737</th>\n",
       "      <td>0.023810</td>\n",
       "      <td>15.895501</td>\n",
       "      <td>0.144315</td>\n",
       "      <td>0.184957</td>\n",
       "    </tr>\n",
       "    <tr>\n",
       "      <th>738</th>\n",
       "      <td>0.023867</td>\n",
       "      <td>16.068268</td>\n",
       "      <td>0.144350</td>\n",
       "      <td>0.175960</td>\n",
       "    </tr>\n",
       "    <tr>\n",
       "      <th>739</th>\n",
       "      <td>0.022068</td>\n",
       "      <td>15.718540</td>\n",
       "      <td>0.144685</td>\n",
       "      <td>0.160803</td>\n",
       "    </tr>\n",
       "  </tbody>\n",
       "</table>\n",
       "<p>740 rows × 4 columns</p>\n",
       "</div>"
      ],
      "text/plain": [
       "         zcmb         mb       dmb    errors\n",
       "0    0.503084  23.001698  0.088031  0.120219\n",
       "1    0.580724  23.573937  0.090132  0.121435\n",
       "2    0.494795  22.960139  0.088110  0.089552\n",
       "3    0.345928  22.398137  0.087263  0.119729\n",
       "4    0.677662  24.078115  0.098356  0.100088\n",
       "..        ...        ...       ...       ...\n",
       "735  0.027064  16.504006  0.141685  0.185894\n",
       "736  0.025468  15.797848  0.143429  0.193666\n",
       "737  0.023810  15.895501  0.144315  0.184957\n",
       "738  0.023867  16.068268  0.144350  0.175960\n",
       "739  0.022068  15.718540  0.144685  0.160803\n",
       "\n",
       "[740 rows x 4 columns]"
      ]
     },
     "execution_count": 21,
     "metadata": {},
     "output_type": "execute_result"
    }
   ],
   "source": [
    "df=pd.read_csv('data/jla.csv')\n",
    "N = len(df.values)\n",
    "randomize = np.random.permutation(N)\n",
    "data = df.values[randomize]\n",
    "N = len(df.values)\n",
    "z = data[:,0] \n",
    "y = data[:,1:3] ### coge el resto de variables a predecir \n",
    "y[:,1] = y[:,1]**2+data[:,2]\n",
    "np.shape(y)\n",
    "df"
   ]
  },
  {
   "cell_type": "code",
   "execution_count": 23,
   "metadata": {},
   "outputs": [],
   "source": [
    "dmag =df[\"dmb\"]\n",
    "\n",
    "df2=df['errors']+df['dmb']**2"
   ]
  },
  {
   "cell_type": "code",
   "execution_count": 4,
   "metadata": {},
   "outputs": [],
   "source": [
    "scalerz = StandardScaler()\n",
    "scalerz.fit(z.reshape(-1,1))\n",
    "z = scalerz.transform(z.reshape(-1,1))"
   ]
  },
  {
   "cell_type": "code",
   "execution_count": 5,
   "metadata": {},
   "outputs": [
    {
     "data": {
      "text/plain": [
       "((555, 1), (185, 1), (555, 2), (185, 2))"
      ]
     },
     "execution_count": 5,
     "metadata": {},
     "output_type": "execute_result"
    }
   ],
   "source": [
    "### Modificar para incluir phanteon como test\n",
    "split = 0.75\n",
    "ntrain = int(split * len(z))\n",
    "indx = [ntrain]\n",
    "X_train, X_test = np.split(z, indx)\n",
    "Y_train, Y_test = np.split(y, indx)\n",
    "np.shape(X_train), np.shape(X_test), Y_train.shape, Y_test.shape"
   ]
  },
  {
   "cell_type": "code",
   "execution_count": 6,
   "metadata": {},
   "outputs": [],
   "source": [
    "# loss -> val_loss\n",
    "callbacks = [tf.keras.callbacks.EarlyStopping(monitor='val_loss', mode='min',\n",
    "                                   min_delta=0.0,\n",
    "                                   patience=10,\n",
    "                                   restore_best_weights=True, verbose=True)\n",
    "                                   ]\n",
    "\n",
    "n_cols = 1"
   ]
  },
  {
   "cell_type": "code",
   "execution_count": 7,
   "metadata": {},
   "outputs": [],
   "source": [
    "epochs=500"
   ]
  },
  {
   "cell_type": "code",
   "execution_count": 8,
   "metadata": {},
   "outputs": [],
   "source": [
    "def train_test_model(hparams):    \n",
    "    \n",
    "    # Train LSTM model and predict on validation set\n",
    "    model = tf.keras.Sequential()\n",
    "    model.add(Input(shape=(int(X_train.shape[1]),)))\n",
    "    model.add(Dense(hparams['HP_NUM_UNITS'], input_shape=(int(X_train.shape[1]),)))\n",
    "    \n",
    "    for i in range(hparams['HP_LAYERS']):        \n",
    "        model.add(Dense(hparams['HP_NUM_UNITS'], activation='relu'))\n",
    "    model.add(Dense(2, activation='linear'))\n",
    "     \n",
    "    optimizer = tf.keras.optimizers.Adam(learning_rate=hparams['HP_LEARNING'], beta_1=0.9, beta_2=0.999, epsilon=1e-3)\n",
    "    model.compile(\n",
    "            optimizer=optimizer,\n",
    "            loss='mse', \n",
    "            metrics=['mean_squared_error'])\n",
    "    \n",
    "    # Run with 1 epoch to speed things up for demo purposes\n",
    "\n",
    "    train = model.fit(X_train, Y_train, epochs=epochs, validation_data=(X_test, Y_test),\n",
    "              callbacks=callbacks, batch_size=hparams['HP_BATCHSIZE'], shuffle=True, verbose=True)\n",
    "\n",
    "    _, loss = model.evaluate(X_test, Y_test)\n",
    "    \n",
    "    return model, loss, train.history"
   ]
  },
  {
   "cell_type": "markdown",
   "metadata": {},
   "source": [
    "# Grid results\n",
    "\n",
    "- layers:4\n",
    "- nodes: 200\n",
    "- lr: 0.00010\n",
    "- bs = 8\n",
    "\n",
    "loss = 0.030958"
   ]
  },
  {
   "cell_type": "code",
   "execution_count": 9,
   "metadata": {},
   "outputs": [],
   "source": [
    "hparams = {'HP_LAYERS': 4, 'HP_NUM_UNITS': 200, 'HP_BATCHSIZE': 8, 'HP_LEARNING':0.0001}"
   ]
  },
  {
   "cell_type": "code",
   "execution_count": 10,
   "metadata": {
    "scrolled": false
   },
   "outputs": [
    {
     "name": "stdout",
     "output_type": "stream",
     "text": [
      "WARNING:tensorflow:Please add `keras.layers.InputLayer` instead of `keras.Input` to Sequential model. `keras.Input` is intended to be used by Functional model.\n",
      "Epoch 1/500\n",
      "70/70 [==============================] - 1s 8ms/step - loss: 214.1585 - mean_squared_error: 214.1585 - val_loss: 200.6070 - val_mean_squared_error: 200.6070\n",
      "Epoch 2/500\n",
      "70/70 [==============================] - 0s 4ms/step - loss: 122.1599 - mean_squared_error: 122.1599 - val_loss: 49.3777 - val_mean_squared_error: 49.3777\n",
      "Epoch 3/500\n",
      "70/70 [==============================] - 0s 4ms/step - loss: 43.8574 - mean_squared_error: 43.8574 - val_loss: 39.3477 - val_mean_squared_error: 39.3477\n",
      "Epoch 4/500\n",
      "70/70 [==============================] - 0s 4ms/step - loss: 31.9283 - mean_squared_error: 31.9283 - val_loss: 23.4255 - val_mean_squared_error: 23.4255\n",
      "Epoch 5/500\n",
      "70/70 [==============================] - 0s 3ms/step - loss: 16.7186 - mean_squared_error: 16.7186 - val_loss: 8.6613 - val_mean_squared_error: 8.6613\n",
      "Epoch 6/500\n",
      "70/70 [==============================] - 0s 4ms/step - loss: 5.5775 - mean_squared_error: 5.5775 - val_loss: 1.6525 - val_mean_squared_error: 1.6525\n",
      "Epoch 7/500\n",
      "70/70 [==============================] - 0s 4ms/step - loss: 1.4596 - mean_squared_error: 1.4596 - val_loss: 0.4033 - val_mean_squared_error: 0.4033\n",
      "Epoch 8/500\n",
      "70/70 [==============================] - 0s 4ms/step - loss: 0.5408 - mean_squared_error: 0.5408 - val_loss: 0.2424 - val_mean_squared_error: 0.2424\n",
      "Epoch 9/500\n",
      "70/70 [==============================] - 0s 4ms/step - loss: 0.3486 - mean_squared_error: 0.3486 - val_loss: 0.1872 - val_mean_squared_error: 0.1872\n",
      "Epoch 10/500\n",
      "70/70 [==============================] - 0s 4ms/step - loss: 0.2531 - mean_squared_error: 0.2531 - val_loss: 0.1632 - val_mean_squared_error: 0.1632\n",
      "Epoch 11/500\n",
      "70/70 [==============================] - 0s 4ms/step - loss: 0.2220 - mean_squared_error: 0.2220 - val_loss: 0.1360 - val_mean_squared_error: 0.1360\n",
      "Epoch 12/500\n",
      "70/70 [==============================] - 0s 4ms/step - loss: 0.1891 - mean_squared_error: 0.1891 - val_loss: 0.1285 - val_mean_squared_error: 0.1285\n",
      "Epoch 13/500\n",
      "70/70 [==============================] - 0s 4ms/step - loss: 0.1704 - mean_squared_error: 0.1704 - val_loss: 0.1141 - val_mean_squared_error: 0.1141\n",
      "Epoch 14/500\n",
      "70/70 [==============================] - 0s 4ms/step - loss: 0.1493 - mean_squared_error: 0.1493 - val_loss: 0.1069 - val_mean_squared_error: 0.1069\n",
      "Epoch 15/500\n",
      "70/70 [==============================] - 0s 4ms/step - loss: 0.1362 - mean_squared_error: 0.1362 - val_loss: 0.0904 - val_mean_squared_error: 0.0904\n",
      "Epoch 16/500\n",
      "70/70 [==============================] - 0s 4ms/step - loss: 0.1260 - mean_squared_error: 0.1260 - val_loss: 0.0804 - val_mean_squared_error: 0.0804\n",
      "Epoch 17/500\n",
      "70/70 [==============================] - 0s 4ms/step - loss: 0.1203 - mean_squared_error: 0.1203 - val_loss: 0.0749 - val_mean_squared_error: 0.0749\n",
      "Epoch 18/500\n",
      "70/70 [==============================] - 0s 4ms/step - loss: 0.1275 - mean_squared_error: 0.1275 - val_loss: 0.0801 - val_mean_squared_error: 0.0801\n",
      "Epoch 19/500\n",
      "70/70 [==============================] - 0s 4ms/step - loss: 0.1010 - mean_squared_error: 0.1010 - val_loss: 0.0626 - val_mean_squared_error: 0.0626\n",
      "Epoch 20/500\n",
      "70/70 [==============================] - 0s 4ms/step - loss: 0.0895 - mean_squared_error: 0.0895 - val_loss: 0.0782 - val_mean_squared_error: 0.0782\n",
      "Epoch 21/500\n",
      "70/70 [==============================] - 0s 4ms/step - loss: 0.0881 - mean_squared_error: 0.0881 - val_loss: 0.0556 - val_mean_squared_error: 0.0556\n",
      "Epoch 22/500\n",
      "70/70 [==============================] - 0s 4ms/step - loss: 0.0838 - mean_squared_error: 0.0838 - val_loss: 0.0616 - val_mean_squared_error: 0.0616\n",
      "Epoch 23/500\n",
      "70/70 [==============================] - 0s 4ms/step - loss: 0.0865 - mean_squared_error: 0.0865 - val_loss: 0.0564 - val_mean_squared_error: 0.0564\n",
      "Epoch 24/500\n",
      "70/70 [==============================] - 0s 4ms/step - loss: 0.0859 - mean_squared_error: 0.0859 - val_loss: 0.0718 - val_mean_squared_error: 0.0718\n",
      "Epoch 25/500\n",
      "70/70 [==============================] - 0s 4ms/step - loss: 0.0770 - mean_squared_error: 0.0770 - val_loss: 0.0580 - val_mean_squared_error: 0.0580\n",
      "Epoch 26/500\n",
      "70/70 [==============================] - 0s 4ms/step - loss: 0.0795 - mean_squared_error: 0.0795 - val_loss: 0.0473 - val_mean_squared_error: 0.0473\n",
      "Epoch 27/500\n",
      "70/70 [==============================] - 0s 4ms/step - loss: 0.0755 - mean_squared_error: 0.0755 - val_loss: 0.0599 - val_mean_squared_error: 0.0599\n",
      "Epoch 28/500\n",
      "70/70 [==============================] - 0s 4ms/step - loss: 0.0706 - mean_squared_error: 0.0706 - val_loss: 0.0421 - val_mean_squared_error: 0.0421\n",
      "Epoch 29/500\n",
      "70/70 [==============================] - 0s 4ms/step - loss: 0.0702 - mean_squared_error: 0.0702 - val_loss: 0.0450 - val_mean_squared_error: 0.0450\n",
      "Epoch 30/500\n",
      "70/70 [==============================] - 0s 4ms/step - loss: 0.0790 - mean_squared_error: 0.0790 - val_loss: 0.0551 - val_mean_squared_error: 0.0551\n",
      "Epoch 31/500\n",
      "70/70 [==============================] - 0s 4ms/step - loss: 0.0731 - mean_squared_error: 0.0731 - val_loss: 0.0460 - val_mean_squared_error: 0.0460\n",
      "Epoch 32/500\n",
      "70/70 [==============================] - 0s 4ms/step - loss: 0.0708 - mean_squared_error: 0.0708 - val_loss: 0.0469 - val_mean_squared_error: 0.0469\n",
      "Epoch 33/500\n",
      "70/70 [==============================] - 0s 5ms/step - loss: 0.0682 - mean_squared_error: 0.0682 - val_loss: 0.0439 - val_mean_squared_error: 0.0439\n",
      "Epoch 34/500\n",
      "70/70 [==============================] - 0s 4ms/step - loss: 0.0674 - mean_squared_error: 0.0674 - val_loss: 0.0545 - val_mean_squared_error: 0.0545\n",
      "Epoch 35/500\n",
      "70/70 [==============================] - 0s 4ms/step - loss: 0.0718 - mean_squared_error: 0.0718 - val_loss: 0.0586 - val_mean_squared_error: 0.0586\n",
      "Epoch 36/500\n",
      "70/70 [==============================] - 0s 4ms/step - loss: 0.0682 - mean_squared_error: 0.0682 - val_loss: 0.0447 - val_mean_squared_error: 0.0447\n",
      "Epoch 37/500\n",
      "70/70 [==============================] - 0s 4ms/step - loss: 0.0636 - mean_squared_error: 0.0636 - val_loss: 0.0411 - val_mean_squared_error: 0.0411\n",
      "Epoch 38/500\n",
      "70/70 [==============================] - 0s 4ms/step - loss: 0.0736 - mean_squared_error: 0.0736 - val_loss: 0.0456 - val_mean_squared_error: 0.0456\n",
      "Epoch 39/500\n",
      "70/70 [==============================] - 0s 4ms/step - loss: 0.0683 - mean_squared_error: 0.0683 - val_loss: 0.0441 - val_mean_squared_error: 0.0441\n",
      "Epoch 40/500\n",
      "70/70 [==============================] - 0s 4ms/step - loss: 0.0620 - mean_squared_error: 0.0620 - val_loss: 0.0408 - val_mean_squared_error: 0.0408\n",
      "Epoch 41/500\n",
      "70/70 [==============================] - 0s 4ms/step - loss: 0.0664 - mean_squared_error: 0.0664 - val_loss: 0.0604 - val_mean_squared_error: 0.0604\n",
      "Epoch 42/500\n",
      "70/70 [==============================] - 0s 4ms/step - loss: 0.0704 - mean_squared_error: 0.0704 - val_loss: 0.0461 - val_mean_squared_error: 0.0461\n",
      "Epoch 43/500\n",
      "70/70 [==============================] - 0s 5ms/step - loss: 0.0653 - mean_squared_error: 0.0653 - val_loss: 0.0410 - val_mean_squared_error: 0.0410\n",
      "Epoch 44/500\n",
      "70/70 [==============================] - 0s 4ms/step - loss: 0.0599 - mean_squared_error: 0.0599 - val_loss: 0.0400 - val_mean_squared_error: 0.0400\n",
      "Epoch 45/500\n",
      "70/70 [==============================] - 0s 4ms/step - loss: 0.0702 - mean_squared_error: 0.0702 - val_loss: 0.0429 - val_mean_squared_error: 0.0429\n",
      "Epoch 46/500\n",
      "70/70 [==============================] - 0s 4ms/step - loss: 0.0642 - mean_squared_error: 0.0642 - val_loss: 0.0808 - val_mean_squared_error: 0.0808\n",
      "Epoch 47/500\n",
      "70/70 [==============================] - 0s 4ms/step - loss: 0.0668 - mean_squared_error: 0.0668 - val_loss: 0.0513 - val_mean_squared_error: 0.0513\n",
      "Epoch 48/500\n",
      "70/70 [==============================] - 0s 5ms/step - loss: 0.0639 - mean_squared_error: 0.0639 - val_loss: 0.0583 - val_mean_squared_error: 0.0583\n",
      "Epoch 49/500\n",
      "70/70 [==============================] - 0s 4ms/step - loss: 0.0594 - mean_squared_error: 0.0594 - val_loss: 0.0399 - val_mean_squared_error: 0.0399\n",
      "Epoch 50/500\n"
     ]
    },
    {
     "name": "stdout",
     "output_type": "stream",
     "text": [
      "70/70 [==============================] - 0s 4ms/step - loss: 0.0629 - mean_squared_error: 0.0629 - val_loss: 0.0352 - val_mean_squared_error: 0.0352\n",
      "Epoch 51/500\n",
      "70/70 [==============================] - 0s 4ms/step - loss: 0.0578 - mean_squared_error: 0.0578 - val_loss: 0.0653 - val_mean_squared_error: 0.0653\n",
      "Epoch 52/500\n",
      "70/70 [==============================] - 0s 4ms/step - loss: 0.0632 - mean_squared_error: 0.0632 - val_loss: 0.0633 - val_mean_squared_error: 0.0633\n",
      "Epoch 53/500\n",
      "70/70 [==============================] - 0s 4ms/step - loss: 0.0602 - mean_squared_error: 0.0602 - val_loss: 0.0404 - val_mean_squared_error: 0.0404\n",
      "Epoch 54/500\n",
      "70/70 [==============================] - 0s 4ms/step - loss: 0.0598 - mean_squared_error: 0.0598 - val_loss: 0.0507 - val_mean_squared_error: 0.0507\n",
      "Epoch 55/500\n",
      "70/70 [==============================] - 0s 4ms/step - loss: 0.0617 - mean_squared_error: 0.0617 - val_loss: 0.0538 - val_mean_squared_error: 0.0538\n",
      "Epoch 56/500\n",
      "70/70 [==============================] - 0s 4ms/step - loss: 0.0646 - mean_squared_error: 0.0646 - val_loss: 0.0328 - val_mean_squared_error: 0.0328\n",
      "Epoch 57/500\n",
      "70/70 [==============================] - 0s 4ms/step - loss: 0.0601 - mean_squared_error: 0.0601 - val_loss: 0.0416 - val_mean_squared_error: 0.0416\n",
      "Epoch 58/500\n",
      "70/70 [==============================] - 0s 4ms/step - loss: 0.0650 - mean_squared_error: 0.0650 - val_loss: 0.0459 - val_mean_squared_error: 0.0459\n",
      "Epoch 59/500\n",
      "70/70 [==============================] - 0s 4ms/step - loss: 0.0600 - mean_squared_error: 0.0600 - val_loss: 0.0316 - val_mean_squared_error: 0.0316\n",
      "Epoch 60/500\n",
      "70/70 [==============================] - 0s 4ms/step - loss: 0.0578 - mean_squared_error: 0.0578 - val_loss: 0.0424 - val_mean_squared_error: 0.0424\n",
      "Epoch 61/500\n",
      "70/70 [==============================] - 0s 4ms/step - loss: 0.0631 - mean_squared_error: 0.0631 - val_loss: 0.0409 - val_mean_squared_error: 0.0409\n",
      "Epoch 62/500\n",
      "70/70 [==============================] - 0s 4ms/step - loss: 0.0711 - mean_squared_error: 0.0711 - val_loss: 0.0379 - val_mean_squared_error: 0.0379\n",
      "Epoch 63/500\n",
      "70/70 [==============================] - 0s 4ms/step - loss: 0.0697 - mean_squared_error: 0.0697 - val_loss: 0.0558 - val_mean_squared_error: 0.0558\n",
      "Epoch 64/500\n",
      "70/70 [==============================] - 0s 4ms/step - loss: 0.0584 - mean_squared_error: 0.0584 - val_loss: 0.0335 - val_mean_squared_error: 0.0335\n",
      "Epoch 65/500\n",
      "70/70 [==============================] - 0s 4ms/step - loss: 0.0710 - mean_squared_error: 0.0710 - val_loss: 0.0519 - val_mean_squared_error: 0.0519\n",
      "Epoch 66/500\n",
      "70/70 [==============================] - 0s 3ms/step - loss: 0.0681 - mean_squared_error: 0.0681 - val_loss: 0.0328 - val_mean_squared_error: 0.0328\n",
      "Epoch 67/500\n",
      "70/70 [==============================] - 0s 4ms/step - loss: 0.0573 - mean_squared_error: 0.0573 - val_loss: 0.0382 - val_mean_squared_error: 0.0382\n",
      "Epoch 68/500\n",
      "70/70 [==============================] - 0s 4ms/step - loss: 0.0598 - mean_squared_error: 0.0598 - val_loss: 0.0384 - val_mean_squared_error: 0.0384\n",
      "Epoch 69/500\n",
      "70/70 [==============================] - 0s 4ms/step - loss: 0.0692 - mean_squared_error: 0.0692 - val_loss: 0.0396 - val_mean_squared_error: 0.0396\n",
      "Restoring model weights from the end of the best epoch.\n",
      "Epoch 00069: early stopping\n",
      "6/6 [==============================] - 0s 2ms/step - loss: 0.0316 - mean_squared_error: 0.0316\n"
     ]
    }
   ],
   "source": [
    "model, loss_test, history = train_test_model(hparams)"
   ]
  },
  {
   "cell_type": "code",
   "execution_count": 11,
   "metadata": {},
   "outputs": [
    {
     "data": {
      "text/plain": [
       "<matplotlib.legend.Legend at 0x7f96507cdd60>"
      ]
     },
     "execution_count": 11,
     "metadata": {},
     "output_type": "execute_result"
    },
    {
     "data": {
      "image/png": "[encoded data removed]",
      "text/plain": [
       "<Figure size 432x288 with 1 Axes>"
      ]
     },
     "metadata": {
      "needs_background": "light"
     },
     "output_type": "display_data"
    }
   ],
   "source": [
    "plt.plot(history['loss'], label='Training')\n",
    "plt.plot(history['val_loss'], label='Validation')\n",
    "plt.ylabel('Loss function')\n",
    "plt.xlabel('Epochs')\n",
    "plt.legend(loc='upper right')"
   ]
  },
  {
   "cell_type": "code",
   "execution_count": 12,
   "metadata": {},
   "outputs": [
    {
     "data": {
      "text/plain": [
       "0.03159653767943382"
      ]
     },
     "execution_count": 12,
     "metadata": {},
     "output_type": "execute_result"
    }
   ],
   "source": [
    "loss_test"
   ]
  },
  {
   "cell_type": "markdown",
   "metadata": {},
   "source": [
    "# Genetic results\n",
    "\n",
    "- layer = 2 \t\n",
    "- nodes = 100 \t\n",
    "- lr = 0.00010 \t\n",
    "- bs = 4 \n",
    "\n",
    "loss = 0.033213"
   ]
  },
  {
   "cell_type": "code",
   "execution_count": 13,
   "metadata": {},
   "outputs": [],
   "source": [
    "hparams_gen = {'HP_LAYERS': 2, 'HP_NUM_UNITS': 100, 'HP_BATCHSIZE': 4, 'HP_LEARNING':0.0001}"
   ]
  },
  {
   "cell_type": "code",
   "execution_count": 14,
   "metadata": {},
   "outputs": [
    {
     "name": "stdout",
     "output_type": "stream",
     "text": [
      "WARNING:tensorflow:Please add `keras.layers.InputLayer` instead of `keras.Input` to Sequential model. `keras.Input` is intended to be used by Functional model.\n",
      "Epoch 1/500\n",
      "139/139 [==============================] - 1s 4ms/step - loss: 208.6589 - mean_squared_error: 208.6589 - val_loss: 196.9956 - val_mean_squared_error: 196.9956\n",
      "Epoch 2/500\n",
      "139/139 [==============================] - 0s 3ms/step - loss: 158.3170 - mean_squared_error: 158.3170 - val_loss: 120.9467 - val_mean_squared_error: 120.9467\n",
      "Epoch 3/500\n",
      "139/139 [==============================] - 0s 3ms/step - loss: 73.4925 - mean_squared_error: 73.4925 - val_loss: 51.8348 - val_mean_squared_error: 51.8348\n",
      "Epoch 4/500\n",
      "139/139 [==============================] - 0s 3ms/step - loss: 40.3270 - mean_squared_error: 40.3270 - val_loss: 37.0651 - val_mean_squared_error: 37.0651\n",
      "Epoch 5/500\n",
      "139/139 [==============================] - 0s 3ms/step - loss: 31.4577 - mean_squared_error: 31.4577 - val_loss: 26.9205 - val_mean_squared_error: 26.9205\n",
      "Epoch 6/500\n",
      "139/139 [==============================] - 0s 3ms/step - loss: 22.3198 - mean_squared_error: 22.3198 - val_loss: 16.0641 - val_mean_squared_error: 16.0641\n",
      "Epoch 7/500\n",
      "139/139 [==============================] - 0s 3ms/step - loss: 12.8992 - mean_squared_error: 12.8992 - val_loss: 7.5224 - val_mean_squared_error: 7.5224\n",
      "Epoch 8/500\n",
      "139/139 [==============================] - 0s 3ms/step - loss: 6.3222 - mean_squared_error: 6.3222 - val_loss: 3.2421 - val_mean_squared_error: 3.2421\n",
      "Epoch 9/500\n",
      "139/139 [==============================] - 0s 3ms/step - loss: 3.1430 - mean_squared_error: 3.1430 - val_loss: 1.5529 - val_mean_squared_error: 1.5529\n",
      "Epoch 10/500\n",
      "139/139 [==============================] - 0s 2ms/step - loss: 1.6917 - mean_squared_error: 1.6917 - val_loss: 0.7781 - val_mean_squared_error: 0.7781\n",
      "Epoch 11/500\n",
      "139/139 [==============================] - 0s 3ms/step - loss: 0.9716 - mean_squared_error: 0.9716 - val_loss: 0.4312 - val_mean_squared_error: 0.4312\n",
      "Epoch 12/500\n",
      "139/139 [==============================] - 0s 3ms/step - loss: 0.6165 - mean_squared_error: 0.6165 - val_loss: 0.2932 - val_mean_squared_error: 0.2932\n",
      "Epoch 13/500\n",
      "139/139 [==============================] - 0s 3ms/step - loss: 0.4509 - mean_squared_error: 0.4509 - val_loss: 0.2279 - val_mean_squared_error: 0.2279\n",
      "Epoch 14/500\n",
      "139/139 [==============================] - 0s 3ms/step - loss: 0.3621 - mean_squared_error: 0.3621 - val_loss: 0.2021 - val_mean_squared_error: 0.2021\n",
      "Epoch 15/500\n",
      "139/139 [==============================] - 0s 3ms/step - loss: 0.3006 - mean_squared_error: 0.3006 - val_loss: 0.1752 - val_mean_squared_error: 0.1752\n",
      "Epoch 16/500\n",
      "139/139 [==============================] - 0s 3ms/step - loss: 0.2624 - mean_squared_error: 0.2624 - val_loss: 0.1699 - val_mean_squared_error: 0.1699\n",
      "Epoch 17/500\n",
      "139/139 [==============================] - 0s 3ms/step - loss: 0.2340 - mean_squared_error: 0.2340 - val_loss: 0.1456 - val_mean_squared_error: 0.1456\n",
      "Epoch 18/500\n",
      "139/139 [==============================] - 0s 3ms/step - loss: 0.2118 - mean_squared_error: 0.2118 - val_loss: 0.1354 - val_mean_squared_error: 0.1354\n",
      "Epoch 19/500\n",
      "139/139 [==============================] - 0s 3ms/step - loss: 0.1928 - mean_squared_error: 0.1928 - val_loss: 0.1211 - val_mean_squared_error: 0.1211\n",
      "Epoch 20/500\n",
      "139/139 [==============================] - 0s 3ms/step - loss: 0.1697 - mean_squared_error: 0.1697 - val_loss: 0.1062 - val_mean_squared_error: 0.1062\n",
      "Epoch 21/500\n",
      "139/139 [==============================] - 0s 3ms/step - loss: 0.1558 - mean_squared_error: 0.1558 - val_loss: 0.1009 - val_mean_squared_error: 0.1009\n",
      "Epoch 22/500\n",
      "139/139 [==============================] - 0s 3ms/step - loss: 0.1458 - mean_squared_error: 0.1458 - val_loss: 0.0978 - val_mean_squared_error: 0.0978\n",
      "Epoch 23/500\n",
      "139/139 [==============================] - 0s 3ms/step - loss: 0.1346 - mean_squared_error: 0.1346 - val_loss: 0.0828 - val_mean_squared_error: 0.0828\n",
      "Epoch 24/500\n",
      "139/139 [==============================] - 0s 3ms/step - loss: 0.1255 - mean_squared_error: 0.1255 - val_loss: 0.0784 - val_mean_squared_error: 0.0784\n",
      "Epoch 25/500\n",
      "139/139 [==============================] - 0s 3ms/step - loss: 0.1208 - mean_squared_error: 0.1208 - val_loss: 0.0779 - val_mean_squared_error: 0.0779\n",
      "Epoch 26/500\n",
      "139/139 [==============================] - 0s 3ms/step - loss: 0.1143 - mean_squared_error: 0.1143 - val_loss: 0.0801 - val_mean_squared_error: 0.0801\n",
      "Epoch 27/500\n",
      "139/139 [==============================] - 0s 3ms/step - loss: 0.1132 - mean_squared_error: 0.1132 - val_loss: 0.0681 - val_mean_squared_error: 0.0681\n",
      "Epoch 28/500\n",
      "139/139 [==============================] - 0s 3ms/step - loss: 0.1041 - mean_squared_error: 0.1041 - val_loss: 0.0671 - val_mean_squared_error: 0.0671\n",
      "Epoch 29/500\n",
      "139/139 [==============================] - 0s 3ms/step - loss: 0.1001 - mean_squared_error: 0.1001 - val_loss: 0.0649 - val_mean_squared_error: 0.0649\n",
      "Epoch 30/500\n",
      "139/139 [==============================] - 0s 3ms/step - loss: 0.0955 - mean_squared_error: 0.0955 - val_loss: 0.0700 - val_mean_squared_error: 0.0700\n",
      "Epoch 31/500\n",
      "139/139 [==============================] - 0s 3ms/step - loss: 0.0917 - mean_squared_error: 0.0917 - val_loss: 0.0622 - val_mean_squared_error: 0.0622\n",
      "Epoch 32/500\n",
      "139/139 [==============================] - 0s 3ms/step - loss: 0.0957 - mean_squared_error: 0.0957 - val_loss: 0.0582 - val_mean_squared_error: 0.0582\n",
      "Epoch 33/500\n",
      "139/139 [==============================] - 0s 3ms/step - loss: 0.0894 - mean_squared_error: 0.0894 - val_loss: 0.0602 - val_mean_squared_error: 0.0602\n",
      "Epoch 34/500\n",
      "139/139 [==============================] - 0s 3ms/step - loss: 0.0892 - mean_squared_error: 0.0892 - val_loss: 0.0600 - val_mean_squared_error: 0.0600\n",
      "Epoch 35/500\n",
      "139/139 [==============================] - 0s 3ms/step - loss: 0.0856 - mean_squared_error: 0.0856 - val_loss: 0.0543 - val_mean_squared_error: 0.0543\n",
      "Epoch 36/500\n",
      "139/139 [==============================] - 0s 3ms/step - loss: 0.0861 - mean_squared_error: 0.0861 - val_loss: 0.0549 - val_mean_squared_error: 0.0549\n",
      "Epoch 37/500\n",
      "139/139 [==============================] - 0s 3ms/step - loss: 0.0851 - mean_squared_error: 0.0851 - val_loss: 0.0680 - val_mean_squared_error: 0.0680\n",
      "Epoch 38/500\n",
      "139/139 [==============================] - 0s 3ms/step - loss: 0.0815 - mean_squared_error: 0.0815 - val_loss: 0.0543 - val_mean_squared_error: 0.0543\n",
      "Epoch 39/500\n",
      "139/139 [==============================] - 0s 3ms/step - loss: 0.0814 - mean_squared_error: 0.0814 - val_loss: 0.0612 - val_mean_squared_error: 0.0612\n",
      "Epoch 40/500\n",
      "139/139 [==============================] - 0s 3ms/step - loss: 0.0804 - mean_squared_error: 0.0804 - val_loss: 0.0558 - val_mean_squared_error: 0.0558\n",
      "Epoch 41/500\n",
      "139/139 [==============================] - 0s 3ms/step - loss: 0.0806 - mean_squared_error: 0.0806 - val_loss: 0.0563 - val_mean_squared_error: 0.0563\n",
      "Epoch 42/500\n",
      "139/139 [==============================] - 0s 3ms/step - loss: 0.0772 - mean_squared_error: 0.0772 - val_loss: 0.0486 - val_mean_squared_error: 0.0486\n",
      "Epoch 43/500\n",
      "139/139 [==============================] - 0s 3ms/step - loss: 0.0771 - mean_squared_error: 0.0771 - val_loss: 0.0502 - val_mean_squared_error: 0.0502\n",
      "Epoch 44/500\n",
      "139/139 [==============================] - 0s 3ms/step - loss: 0.0765 - mean_squared_error: 0.0765 - val_loss: 0.0473 - val_mean_squared_error: 0.0473\n",
      "Epoch 45/500\n",
      "139/139 [==============================] - 0s 3ms/step - loss: 0.0745 - mean_squared_error: 0.0745 - val_loss: 0.0528 - val_mean_squared_error: 0.0528\n",
      "Epoch 46/500\n",
      "139/139 [==============================] - 0s 3ms/step - loss: 0.0749 - mean_squared_error: 0.0749 - val_loss: 0.0530 - val_mean_squared_error: 0.0530\n",
      "Epoch 47/500\n",
      "139/139 [==============================] - 0s 3ms/step - loss: 0.0827 - mean_squared_error: 0.0827 - val_loss: 0.0614 - val_mean_squared_error: 0.0614\n",
      "Epoch 48/500\n",
      "139/139 [==============================] - 0s 3ms/step - loss: 0.0814 - mean_squared_error: 0.0814 - val_loss: 0.0540 - val_mean_squared_error: 0.0540\n",
      "Epoch 49/500\n",
      "139/139 [==============================] - 0s 3ms/step - loss: 0.0734 - mean_squared_error: 0.0734 - val_loss: 0.0487 - val_mean_squared_error: 0.0487\n"
     ]
    },
    {
     "name": "stdout",
     "output_type": "stream",
     "text": [
      "Epoch 50/500\n",
      "139/139 [==============================] - 0s 3ms/step - loss: 0.0737 - mean_squared_error: 0.0737 - val_loss: 0.0578 - val_mean_squared_error: 0.0578\n",
      "Epoch 51/500\n",
      "139/139 [==============================] - 0s 3ms/step - loss: 0.0713 - mean_squared_error: 0.0713 - val_loss: 0.0455 - val_mean_squared_error: 0.0455\n",
      "Epoch 52/500\n",
      "139/139 [==============================] - 0s 3ms/step - loss: 0.0695 - mean_squared_error: 0.0695 - val_loss: 0.0402 - val_mean_squared_error: 0.0402\n",
      "Epoch 53/500\n",
      "139/139 [==============================] - 0s 3ms/step - loss: 0.0717 - mean_squared_error: 0.0717 - val_loss: 0.0438 - val_mean_squared_error: 0.0438\n",
      "Epoch 54/500\n",
      "139/139 [==============================] - 0s 3ms/step - loss: 0.0667 - mean_squared_error: 0.0667 - val_loss: 0.0428 - val_mean_squared_error: 0.0428\n",
      "Epoch 55/500\n",
      "139/139 [==============================] - 0s 3ms/step - loss: 0.0698 - mean_squared_error: 0.0698 - val_loss: 0.0411 - val_mean_squared_error: 0.0411\n",
      "Epoch 56/500\n",
      "139/139 [==============================] - 0s 3ms/step - loss: 0.0705 - mean_squared_error: 0.0705 - val_loss: 0.0562 - val_mean_squared_error: 0.0562\n",
      "Epoch 57/500\n",
      "139/139 [==============================] - 0s 3ms/step - loss: 0.0693 - mean_squared_error: 0.0693 - val_loss: 0.0429 - val_mean_squared_error: 0.0429\n",
      "Epoch 58/500\n",
      "139/139 [==============================] - 0s 3ms/step - loss: 0.0696 - mean_squared_error: 0.0696 - val_loss: 0.0438 - val_mean_squared_error: 0.0438\n",
      "Epoch 59/500\n",
      "139/139 [==============================] - 0s 3ms/step - loss: 0.0659 - mean_squared_error: 0.0659 - val_loss: 0.0513 - val_mean_squared_error: 0.0513\n",
      "Epoch 60/500\n",
      "139/139 [==============================] - 0s 3ms/step - loss: 0.0658 - mean_squared_error: 0.0658 - val_loss: 0.0427 - val_mean_squared_error: 0.0427\n",
      "Epoch 61/500\n",
      "139/139 [==============================] - 0s 3ms/step - loss: 0.0681 - mean_squared_error: 0.0681 - val_loss: 0.0513 - val_mean_squared_error: 0.0513\n",
      "Epoch 62/500\n",
      "139/139 [==============================] - 0s 3ms/step - loss: 0.0653 - mean_squared_error: 0.0653 - val_loss: 0.0405 - val_mean_squared_error: 0.0405\n",
      "Restoring model weights from the end of the best epoch.\n",
      "Epoch 00062: early stopping\n",
      "6/6 [==============================] - 0s 2ms/step - loss: 0.0402 - mean_squared_error: 0.0402\n"
     ]
    }
   ],
   "source": [
    "model_gen, loss_test_gen, history_gen = train_test_model(hparams_gen)"
   ]
  },
  {
   "cell_type": "code",
   "execution_count": 15,
   "metadata": {},
   "outputs": [
    {
     "data": {
      "text/plain": [
       "<matplotlib.legend.Legend at 0x7f9650625220>"
      ]
     },
     "execution_count": 15,
     "metadata": {},
     "output_type": "execute_result"
    },
    {
     "data": {
      "image/png": "[encoded data removed]",
      "text/plain": [
       "<Figure size 432x288 with 1 Axes>"
      ]
     },
     "metadata": {
      "needs_background": "light"
     },
     "output_type": "display_data"
    }
   ],
   "source": [
    "plt.plot(history_gen['loss'], label='Training')\n",
    "plt.plot(history_gen['val_loss'], label='Validation')\n",
    "plt.ylabel('Loss function')\n",
    "plt.xlabel('Epochs')\n",
    "plt.legend(loc='upper right')"
   ]
  },
  {
   "cell_type": "code",
   "execution_count": 16,
   "metadata": {},
   "outputs": [
    {
     "data": {
      "text/plain": [
       "0.04021205008029938"
      ]
     },
     "execution_count": 16,
     "metadata": {},
     "output_type": "execute_result"
    }
   ],
   "source": [
    "loss_test_gen"
   ]
  },
  {
   "cell_type": "code",
   "execution_count": 17,
   "metadata": {},
   "outputs": [],
   "source": [
    "# ranz = np.random.uniform(0, 2, size=10000)\n",
    "ranz = np.linspace(0, 1.5, 1000)\n",
    "r = scalerz.transform(ranz.reshape(-1, 1))\n",
    "pred_random_gen = model_gen.predict(r)\n",
    "rr = scalerz.inverse_transform(r.reshape(-1,1))\n",
    "pred_random_grid = model.predict(r)\n"
   ]
  },
  {
   "cell_type": "code",
   "execution_count": 27,
   "metadata": {},
   "outputs": [
    {
     "data": {
      "text/plain": [
       "(0.0, 1.3)"
      ]
     },
     "execution_count": 27,
     "metadata": {},
     "output_type": "execute_result"
    },
    {
     "data": {
      "image/png": "[encoded data removed]",
      "text/plain": [
       "<Figure size 1000x700 with 1 Axes>"
      ]
     },
     "metadata": {
      "needs_background": "light"
     },
     "output_type": "display_data"
    }
   ],
   "source": [
    "plt.figure(figsize=(10, 7), dpi=100)\n",
    "plt.errorbar(df['zcmb'], df['mb'], df2, fmt='g.', markersize=15, label='Observations', alpha=0.5)\n",
    "plt.errorbar(rr, pred_random_grid[:,0], pred_random_grid[:,1], markersize=2, fmt='o', \n",
    "             ecolor='r', capthick=2, elinewidth=0.8, alpha=0.5, c='m', label='grid')\n",
    "plt.errorbar(rr, pred_random_gen[:,0], pred_random_gen[:,1], markersize=2, fmt='o', \n",
    "             ecolor='b', capthick=2, elinewidth=0.8, alpha=0.5, c='b', label='genetic')\n",
    "plt.xlabel(\"Redshift z\", fontsize=20)\n",
    "plt.xticks(fontsize=15)\n",
    "plt.yticks(fontsize=15)\n",
    "plt.legend()\n",
    "\n",
    "\n",
    "plt.ylabel(\"$\\mu(z)$\", fontsize=20)\n",
    "plt.xlim(0, 1.3)"
   ]
  },
  {
   "cell_type": "code",
   "execution_count": null,
   "metadata": {},
   "outputs": [],
   "source": []
  }
 ],
 "metadata": {
  "kernelspec": {
   "display_name": "Python 3",
   "language": "python",
   "name": "python3"
  },
  "language_info": {
   "codemirror_mode": {
    "name": "ipython",
    "version": 3
   },
   "file_extension": ".py",
   "mimetype": "text/x-python",
   "name": "python",
   "nbconvert_exporter": "python",
   "pygments_lexer": "ipython3",
   "version": "3.8.10"
  }
 },
 "nbformat": 4,
 "nbformat_minor": 2
}
