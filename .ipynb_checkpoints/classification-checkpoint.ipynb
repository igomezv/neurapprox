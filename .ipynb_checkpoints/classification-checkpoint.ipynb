{
 "cells": [
  {
   "cell_type": "code",
   "execution_count": 18,
   "metadata": {
    "id": "ItxP3RKqqmzb"
   },
   "outputs": [],
   "source": [
    "import numpy as np\n",
    "import pandas as pd\n",
    "import matplotlib as mpl\n",
    "import matplotlib.pyplot as plt\n",
    "import time, os\n",
    "import random\n",
    "import seaborn as sns\n",
    "\n",
    "import tensorflow as tf\n",
    "from tensorflow import keras\n",
    "from tensorflow.keras.layers import Input, Dense, LeakyReLU\n",
    "from tensorflow.keras.utils import to_categorical\n",
    "from tensorboard.plugins.hparams import api as hp\n",
    "\n",
    "from tensorflow.keras import activations\n",
    "from tensorflow.keras.losses import CategoricalCrossentropy\n",
    "from tensorflow.keras.models import Model\n",
    "\n",
    "from sklearn.metrics import accuracy_score, confusion_matrix, precision_score, roc_auc_score, f1_score\n",
    "from sklearn.preprocessing import StandardScaler\n",
    "from sklearn.model_selection import train_test_split as split\n",
    "from scipy.stats import bernoulli\n",
    "\n",
    "from matplotlib.ticker import FormatStrFormatter"
   ]
  },
  {
   "cell_type": "code",
   "execution_count": 2,
   "metadata": {
    "id": "tQnsPJKYqmzu"
   },
   "outputs": [],
   "source": [
    "np.random.seed(0)\n",
    "scaler = StandardScaler()"
   ]
  },
  {
   "cell_type": "markdown",
   "metadata": {
    "id": "YKypMarmqmzy"
   },
   "source": [
    "### Conjunto de datos: SDSS DR17"
   ]
  },
  {
   "cell_type": "code",
   "execution_count": 3,
   "metadata": {
    "colab": {
     "base_uri": "https://localhost:8080/",
     "height": 206
    },
    "id": "xGCn9Krpqmz3",
    "outputId": "c49c7769-0973-4d7a-98f7-4b5e985545ac"
   },
   "outputs": [
    {
     "data": {
      "text/html": [
       "<div>\n",
       "<style scoped>\n",
       "    .dataframe tbody tr th:only-of-type {\n",
       "        vertical-align: middle;\n",
       "    }\n",
       "\n",
       "    .dataframe tbody tr th {\n",
       "        vertical-align: top;\n",
       "    }\n",
       "\n",
       "    .dataframe thead th {\n",
       "        text-align: right;\n",
       "    }\n",
       "</style>\n",
       "<table border=\"1\" class=\"dataframe\">\n",
       "  <thead>\n",
       "    <tr style=\"text-align: right;\">\n",
       "      <th></th>\n",
       "      <th>alpha</th>\n",
       "      <th>delta</th>\n",
       "      <th>u</th>\n",
       "      <th>g</th>\n",
       "      <th>r</th>\n",
       "      <th>i</th>\n",
       "      <th>z</th>\n",
       "      <th>redshift</th>\n",
       "      <th>class</th>\n",
       "    </tr>\n",
       "  </thead>\n",
       "  <tbody>\n",
       "    <tr>\n",
       "      <th>0</th>\n",
       "      <td>135.689107</td>\n",
       "      <td>32.494632</td>\n",
       "      <td>23.87882</td>\n",
       "      <td>22.27530</td>\n",
       "      <td>20.39501</td>\n",
       "      <td>19.16573</td>\n",
       "      <td>18.79371</td>\n",
       "      <td>0.634794</td>\n",
       "      <td>GALAXY</td>\n",
       "    </tr>\n",
       "    <tr>\n",
       "      <th>1</th>\n",
       "      <td>144.826101</td>\n",
       "      <td>31.274185</td>\n",
       "      <td>24.77759</td>\n",
       "      <td>22.83188</td>\n",
       "      <td>22.58444</td>\n",
       "      <td>21.16812</td>\n",
       "      <td>21.61427</td>\n",
       "      <td>0.779136</td>\n",
       "      <td>GALAXY</td>\n",
       "    </tr>\n",
       "    <tr>\n",
       "      <th>2</th>\n",
       "      <td>142.188790</td>\n",
       "      <td>35.582444</td>\n",
       "      <td>25.26307</td>\n",
       "      <td>22.66389</td>\n",
       "      <td>20.60976</td>\n",
       "      <td>19.34857</td>\n",
       "      <td>18.94827</td>\n",
       "      <td>0.644195</td>\n",
       "      <td>GALAXY</td>\n",
       "    </tr>\n",
       "    <tr>\n",
       "      <th>3</th>\n",
       "      <td>338.741038</td>\n",
       "      <td>-0.402828</td>\n",
       "      <td>22.13682</td>\n",
       "      <td>23.77656</td>\n",
       "      <td>21.61162</td>\n",
       "      <td>20.50454</td>\n",
       "      <td>19.25010</td>\n",
       "      <td>0.932346</td>\n",
       "      <td>GALAXY</td>\n",
       "    </tr>\n",
       "    <tr>\n",
       "      <th>4</th>\n",
       "      <td>345.282593</td>\n",
       "      <td>21.183866</td>\n",
       "      <td>19.43718</td>\n",
       "      <td>17.58028</td>\n",
       "      <td>16.49747</td>\n",
       "      <td>15.97711</td>\n",
       "      <td>15.54461</td>\n",
       "      <td>0.116123</td>\n",
       "      <td>GALAXY</td>\n",
       "    </tr>\n",
       "  </tbody>\n",
       "</table>\n",
       "</div>"
      ],
      "text/plain": [
       "        alpha      delta         u         g         r         i         z  \\\n",
       "0  135.689107  32.494632  23.87882  22.27530  20.39501  19.16573  18.79371   \n",
       "1  144.826101  31.274185  24.77759  22.83188  22.58444  21.16812  21.61427   \n",
       "2  142.188790  35.582444  25.26307  22.66389  20.60976  19.34857  18.94827   \n",
       "3  338.741038  -0.402828  22.13682  23.77656  21.61162  20.50454  19.25010   \n",
       "4  345.282593  21.183866  19.43718  17.58028  16.49747  15.97711  15.54461   \n",
       "\n",
       "   redshift   class  \n",
       "0  0.634794  GALAXY  \n",
       "1  0.779136  GALAXY  \n",
       "2  0.644195  GALAXY  \n",
       "3  0.932346  GALAXY  \n",
       "4  0.116123  GALAXY  "
      ]
     },
     "execution_count": 3,
     "metadata": {},
     "output_type": "execute_result"
    }
   ],
   "source": [
    "url = \"https://raw.githubusercontent.com/igomezv/neurapprox/main/SDSS/star_classification.csv\"\n",
    "data = pd.read_csv(url)\n",
    "cols = ['alpha','delta','u','g','r','i','z','redshift','class']\n",
    "data = data[cols]\n",
    "data.head()"
   ]
  },
  {
   "cell_type": "markdown",
   "metadata": {
    "id": "6XosYBBPqmz8"
   },
   "source": [
    "Se cambian las clases a vectores con números enteros\n",
    "\n",
    "$$ \\text{GALAXY}: \\begin{pmatrix}1\\\\0\\\\0\\end{pmatrix},\\quad \\text{STAR}: \\begin{pmatrix}0\\\\1\\\\0\\end{pmatrix},\\quad \\text{QSO}:\\begin{pmatrix}0\\\\0\\\\1\\end{pmatrix} $$"
   ]
  },
  {
   "cell_type": "code",
   "execution_count": 4,
   "metadata": {
    "colab": {
     "base_uri": "https://localhost:8080/"
    },
    "id": "ukwjanYVqmz_",
    "outputId": "5cbffba3-3e30-4986-f950-21cb64c87047"
   },
   "outputs": [
    {
     "name": "stdout",
     "output_type": "stream",
     "text": [
      "        alpha      delta         u         g         r         i         z  \\\n",
      "0  135.689107  32.494632  23.87882  22.27530  20.39501  19.16573  18.79371   \n",
      "1  144.826101  31.274185  24.77759  22.83188  22.58444  21.16812  21.61427   \n",
      "2  142.188790  35.582444  25.26307  22.66389  20.60976  19.34857  18.94827   \n",
      "3  338.741038  -0.402828  22.13682  23.77656  21.61162  20.50454  19.25010   \n",
      "4  345.282593  21.183866  19.43718  17.58028  16.49747  15.97711  15.54461   \n",
      "\n",
      "   redshift  class  \n",
      "0  0.634794      0  \n",
      "1  0.779136      0  \n",
      "2  0.644195      0  \n",
      "3  0.932346      0  \n",
      "4  0.116123      0  \n"
     ]
    }
   ],
   "source": [
    "data[\"class\"]=[0 if i == \"GALAXY\" else 1 if i == \"STAR\" else 2 for i in data[\"class\"]]\n",
    "print(data.head())\n",
    "data = data.to_numpy()"
   ]
  },
  {
   "cell_type": "code",
   "execution_count": 5,
   "metadata": {
    "id": "gspwez8Uqm0Q"
   },
   "outputs": [],
   "source": [
    "# Divide data into X and Y and implement hot_ones in Y\n",
    "def prepare_dataset(data):\n",
    "    X, Y = np.empty((0)), np.empty((0))\n",
    "    X = data[:,0:8]\n",
    "    Y = data[:,8]\n",
    "    Y = to_categorical(Y, num_classes=3)\n",
    "    return X, Y"
   ]
  },
  {
   "cell_type": "code",
   "execution_count": 6,
   "metadata": {
    "id": "vaLXQeaMqm0S"
   },
   "outputs": [],
   "source": [
    "# Split dataset into train, validation and test sets\n",
    "X,Y = prepare_dataset(data)\n",
    "\n",
    "# Defines ratios, w.r.t. whole dataset.\n",
    "ratio_train = 0.8\n",
    "ratio_val = 0.1\n",
    "ratio_test = 0.1\n",
    "\n",
    "# Produces test split.\n",
    "x_, X_test, y_, Y_test = split(X, Y, test_size = ratio_test, random_state=0)\n",
    "\n",
    "# Adjusts val ratio, w.r.t. remaining dataset.\n",
    "ratio_remaining = 1 - ratio_test\n",
    "ratio_val_adjusted = ratio_val / ratio_remaining\n",
    "\n",
    "# Produces train and val splits.\n",
    "X_train, X_val, Y_train, Y_val = split(x_, y_, test_size=ratio_val_adjusted, random_state=0)\n",
    "\n",
    "# Normalize and scale the input sets.\n",
    "scaler.fit(X)\n",
    "X_train = scaler.transform(X_train)\n",
    "X_test  = scaler.transform(X_test)\n",
    "X_val   = scaler.transform(X_val)"
   ]
  },
  {
   "cell_type": "markdown",
   "metadata": {
    "id": "ZLyZeQ7rqm0X"
   },
   "source": [
    "### Arquitectura del modelo proveniente de la malla de hiperparámetros"
   ]
  },
  {
   "cell_type": "code",
   "execution_count": 7,
   "metadata": {
    "id": "dSDGtnhRqm0Z",
    "scrolled": true
   },
   "outputs": [
    {
     "name": "stdout",
     "output_type": "stream",
     "text": [
      "Epoch 1/50\n",
      "625/625 [==============================] - 1s 2ms/step - loss: 0.2649 - accuracy: 0.9106 - val_loss: 0.1419 - val_accuracy: 0.9565\n",
      "Epoch 2/50\n",
      "625/625 [==============================] - 1s 1ms/step - loss: 0.1423 - accuracy: 0.9567 - val_loss: 0.1262 - val_accuracy: 0.9599\n",
      "Epoch 3/50\n",
      "625/625 [==============================] - 1s 1ms/step - loss: 0.1273 - accuracy: 0.9620 - val_loss: 0.1128 - val_accuracy: 0.9659\n",
      "Epoch 4/50\n",
      "625/625 [==============================] - 1s 1ms/step - loss: 0.1250 - accuracy: 0.9625 - val_loss: 0.1149 - val_accuracy: 0.9679\n",
      "Epoch 5/50\n",
      "625/625 [==============================] - 1s 1ms/step - loss: 0.1201 - accuracy: 0.9636 - val_loss: 0.1217 - val_accuracy: 0.9629\n",
      "Epoch 6/50\n",
      "625/625 [==============================] - 1s 1ms/step - loss: 0.1175 - accuracy: 0.9641 - val_loss: 0.1033 - val_accuracy: 0.9680\n",
      "Epoch 7/50\n",
      "625/625 [==============================] - 1s 1ms/step - loss: 0.1128 - accuracy: 0.9661 - val_loss: 0.1098 - val_accuracy: 0.9645\n",
      "Epoch 8/50\n",
      "625/625 [==============================] - 1s 1ms/step - loss: 0.1114 - accuracy: 0.9661 - val_loss: 0.0971 - val_accuracy: 0.9704\n",
      "Epoch 9/50\n",
      "625/625 [==============================] - 1s 1ms/step - loss: 0.1088 - accuracy: 0.9670 - val_loss: 0.0953 - val_accuracy: 0.9696\n",
      "Epoch 10/50\n",
      "625/625 [==============================] - 1s 1ms/step - loss: 0.1089 - accuracy: 0.9671 - val_loss: 0.0945 - val_accuracy: 0.9708\n",
      "Epoch 11/50\n",
      "625/625 [==============================] - 1s 1ms/step - loss: 0.1063 - accuracy: 0.9681 - val_loss: 0.1066 - val_accuracy: 0.9662\n",
      "Epoch 12/50\n",
      "625/625 [==============================] - 1s 1ms/step - loss: 0.1085 - accuracy: 0.9671 - val_loss: 0.1076 - val_accuracy: 0.9671\n",
      "Epoch 13/50\n",
      "625/625 [==============================] - 1s 1ms/step - loss: 0.1066 - accuracy: 0.9678 - val_loss: 0.0981 - val_accuracy: 0.9691\n",
      "Epoch 14/50\n",
      "625/625 [==============================] - 1s 1ms/step - loss: 0.1037 - accuracy: 0.9687 - val_loss: 0.0954 - val_accuracy: 0.9702\n",
      "Epoch 15/50\n",
      "625/625 [==============================] - 1s 1ms/step - loss: 0.1065 - accuracy: 0.9678 - val_loss: 0.0983 - val_accuracy: 0.9695\n",
      "Epoch 16/50\n",
      "625/625 [==============================] - 1s 1ms/step - loss: 0.1016 - accuracy: 0.9691 - val_loss: 0.0963 - val_accuracy: 0.9697\n",
      "Restoring model weights from the end of the best epoch.\n",
      "Epoch 00016: early stopping\n",
      "313/313 [==============================] - 0s 632us/step - loss: 0.0945 - accuracy: 0.9708\n",
      "Accuracy: 0.97079998254776 , Elapsed time: 15.461747884750366\n"
     ]
    }
   ],
   "source": [
    "t = time.time(); t_total = 0    \n",
    "deep_layers = 2\n",
    "num_units = 200\n",
    "learning_rate = 1e-3\n",
    "epochs = 50\n",
    "\n",
    "my_callbacks = [tf.keras.callbacks.EarlyStopping(\n",
    "                               monitor='val_loss', mode='min',\n",
    "                               min_delta=0, \n",
    "                               patience=6,\n",
    "                               verbose=1,\n",
    "                               restore_best_weights=1)]\n",
    "    \n",
    "\n",
    "model1 = tf.keras.Sequential()\n",
    "model1.add(tf.keras.layers.InputLayer(int(X_train.shape[1],)))\n",
    "model1.add(Dense(num_units, input_shape=(int(X_train.shape[1]),)))\n",
    "    \n",
    "for i in range(deep_layers):        \n",
    "    model1.add(Dense(num_units, activation='relu'))\n",
    "model1.add(Dense(3, activation=tf.nn.softmax))\n",
    "    \n",
    "optimizer = tf.keras.optimizers.Adam(learning_rate=learning_rate, beta_1=0.9, beta_2=0.999, epsilon=1e-3)\n",
    "model1.compile(optimizer=optimizer, loss='categorical_crossentropy', metrics=[\"accuracy\"])\n",
    "train1 = model1.fit(X_train, Y_train, epochs=epochs, validation_data=(X_val, Y_val),\n",
    "                    callbacks=my_callbacks, batch_size=128, shuffle=1, verbose=1)\n",
    "    \n",
    "loss, score = model1.evaluate(X_val, Y_val)    \n",
    "t = time.time()-t\n",
    "print(\"Accuracy:\", score, \", Elapsed time:\", t)"
   ]
  },
  {
   "cell_type": "code",
   "execution_count": 27,
   "metadata": {
    "id": "0RXuYHipq8t3"
   },
   "outputs": [],
   "source": [
    "def plot_cm(Y_test, Y_pred, labels, porcentaje=False, cbar=False, ax=None):\n",
    "    matrix = confusion_matrix(Y_test.argmax(axis=1), Y_pred)   \n",
    "    #Aquí se divide si queremos en porcentaje o números\n",
    "    if porcentaje==False: \n",
    "        ax = sns.heatmap(matrix, annot=True, cmap=\"OrRd\", cbar=cbar, cbar_kws={'label': 'scale'}, ax=ax)\n",
    "#         ax.yaxis.set_major_formatter(FormatStrFormatter('%.4f'))\n",
    "    if porcentaje==True:\n",
    "        m=np.zeros(matrix.shape)\n",
    "        for j in range(0,matrix.shape[1]):\n",
    "            m[:,j]=matrix[:,j]/np.sum(matrix[:,j])*100\n",
    "            \n",
    "        ax = sns.heatmap(m, annot=True,cmap='OrRd', cbar=cbar, cbar_kws={'label': 'scale'}, ax=ax)\n",
    " \n",
    "    ax.set_xticklabels(labels)\n",
    "    ax.set_yticklabels(labels)\n",
    " \n",
    "    # ax.set(xlabel=\"True label\", ylabel=\"Predicted label\")\n",
    "\n",
    "    return ax"
   ]
  },
  {
   "cell_type": "code",
   "execution_count": 28,
   "metadata": {
    "colab": {
     "base_uri": "https://localhost:8080/",
     "height": 336
    },
    "id": "8ySBn5bTqm0v",
    "outputId": "cc9fae88-d6b0-4f4f-8908-d98a908dba35"
   },
   "outputs": [
    {
     "data": {
      "image/png": "[encoded data removed]",
      "text/plain": [
       "<Figure size 360x360 with 1 Axes>"
      ]
     },
     "metadata": {
      "needs_background": "light"
     },
     "output_type": "display_data"
    }
   ],
   "source": [
    "X_test_inverse = scaler.inverse_transform(X_test)\n",
    "labels=['Star','Galaxy','QSO']\n",
    "porcentaje = True\n",
    "\n",
    "# titles.append(f\"Confusion matrix model\")\n",
    "# plot_cm(Y_test, model1.predict(X_test), labels, porcentaje=porcentaje)\n",
    "fig = plt.figure(figsize=(5,5))\n",
    "ax = fig.add_subplot(111)\n",
    "\n",
    "y_pred = model1.predict(X_test)\n",
    "y_test=np.argmax(Y_test, axis=1)\n",
    "y_pred=np.argmax(y_pred, axis=1)\n",
    "plot_cm(Y_test, y_pred, labels=labels, porcentaje=False, ax=ax)\n",
    "plt.title(\"Hyperparameter grid\")\n",
    "plt.savefig(\"classification_grid_cm.png\")"
   ]
  },
  {
   "cell_type": "code",
   "execution_count": 49,
   "metadata": {},
   "outputs": [
    {
     "data": {
      "text/plain": [
       "0.10160618275403976"
      ]
     },
     "execution_count": 49,
     "metadata": {},
     "output_type": "execute_result"
    },
    {
     "data": {
      "image/png": "[encoded data removed]",
      "text/plain": [
       "<Figure size 432x432 with 1 Axes>"
      ]
     },
     "metadata": {
      "needs_background": "light"
     },
     "output_type": "display_data"
    }
   ],
   "source": [
    "fig = plt.figure(figsize=(6,6))\n",
    "ax = fig.add_subplot(111)\n",
    "plt.plot(train1.history['loss'], label='Training')\n",
    "plt.plot(train1.history['val_loss'], label='Validation')\n",
    "plt.xlabel('Epochs')\n",
    "plt.ylabel('Loss function')\n",
    "plt.ylim(0.09, 0.3)\n",
    "ax.yaxis.set_major_formatter(FormatStrFormatter('%.2f'))\n",
    "plt.title(\"Hyperparameter grid\")\n",
    "plt.savefig(\"classification_grid_loss.png\")\n",
    "plt.legend(loc='upper right')\n",
    "np.min(train1.history['loss'])"
   ]
  },
  {
   "cell_type": "code",
   "execution_count": 11,
   "metadata": {},
   "outputs": [
    {
     "name": "stdout",
     "output_type": "stream",
     "text": [
      "Accuracy: 0.9702\n",
      "Precision: 0.9700557714588067\n",
      "F1: 0.9700207714843114\n"
     ]
    }
   ],
   "source": [
    "# other metrics\n",
    "am = accuracy_score(y_test, y_pred)\n",
    "pm = precision_score(y_test, y_pred, average='weighted')\n",
    "# rm = roc_auc_score(y_test, y_pred,multi_class='ovr')\n",
    "fm = f1_score(y_test, y_pred, average='weighted')\n",
    "\n",
    "print(\"Accuracy:\", am)\n",
    "print(\"Precision:\", pm)\n",
    "print(\"F1:\", fm)"
   ]
  },
  {
   "cell_type": "markdown",
   "metadata": {},
   "source": [
    "### Arquitectura del modelo proveniente del algoritmo genéticos (mismo número de evaluaciones que con la malla)"
   ]
  },
  {
   "cell_type": "code",
   "execution_count": 12,
   "metadata": {},
   "outputs": [
    {
     "name": "stdout",
     "output_type": "stream",
     "text": [
      "Epoch 1/50\n",
      "625/625 [==============================] - 1s 1ms/step - loss: 0.6829 - accuracy: 0.7440 - val_loss: 0.3567 - val_accuracy: 0.8866\n",
      "Epoch 2/50\n",
      "625/625 [==============================] - 1s 1ms/step - loss: 0.2823 - accuracy: 0.9085 - val_loss: 0.2214 - val_accuracy: 0.9307\n",
      "Epoch 3/50\n",
      "625/625 [==============================] - 1s 1ms/step - loss: 0.2022 - accuracy: 0.9394 - val_loss: 0.1782 - val_accuracy: 0.9495\n",
      "Epoch 4/50\n",
      "625/625 [==============================] - 1s 1ms/step - loss: 0.1700 - accuracy: 0.9510 - val_loss: 0.1548 - val_accuracy: 0.9552\n",
      "Epoch 5/50\n",
      "625/625 [==============================] - 1s 1ms/step - loss: 0.1528 - accuracy: 0.9554 - val_loss: 0.1436 - val_accuracy: 0.9545\n",
      "Epoch 6/50\n",
      "625/625 [==============================] - 1s 1ms/step - loss: 0.1419 - accuracy: 0.9588 - val_loss: 0.1317 - val_accuracy: 0.9590\n",
      "Epoch 7/50\n",
      "625/625 [==============================] - 1s 1ms/step - loss: 0.1347 - accuracy: 0.9608 - val_loss: 0.1258 - val_accuracy: 0.9640\n",
      "Epoch 8/50\n",
      "625/625 [==============================] - 1s 1ms/step - loss: 0.1288 - accuracy: 0.9626 - val_loss: 0.1205 - val_accuracy: 0.9632\n",
      "Epoch 9/50\n",
      "625/625 [==============================] - 1s 1ms/step - loss: 0.1249 - accuracy: 0.9635 - val_loss: 0.1190 - val_accuracy: 0.9640\n",
      "Epoch 10/50\n",
      "625/625 [==============================] - 1s 1ms/step - loss: 0.1218 - accuracy: 0.9643 - val_loss: 0.1189 - val_accuracy: 0.9652\n",
      "Epoch 11/50\n",
      "625/625 [==============================] - 1s 1ms/step - loss: 0.1192 - accuracy: 0.9647 - val_loss: 0.1157 - val_accuracy: 0.9643\n",
      "Epoch 12/50\n",
      "625/625 [==============================] - 1s 1ms/step - loss: 0.1171 - accuracy: 0.9659 - val_loss: 0.1114 - val_accuracy: 0.9657\n",
      "Epoch 13/50\n",
      "625/625 [==============================] - 1s 1ms/step - loss: 0.1156 - accuracy: 0.9661 - val_loss: 0.1129 - val_accuracy: 0.9640\n",
      "Epoch 14/50\n",
      "625/625 [==============================] - 1s 1ms/step - loss: 0.1139 - accuracy: 0.9664 - val_loss: 0.1088 - val_accuracy: 0.9662\n",
      "Epoch 15/50\n",
      "625/625 [==============================] - 1s 1ms/step - loss: 0.1128 - accuracy: 0.9666 - val_loss: 0.1088 - val_accuracy: 0.9682\n",
      "Epoch 16/50\n",
      "625/625 [==============================] - 1s 1ms/step - loss: 0.1117 - accuracy: 0.9671 - val_loss: 0.1068 - val_accuracy: 0.9678\n",
      "Epoch 17/50\n",
      "625/625 [==============================] - 1s 1ms/step - loss: 0.1105 - accuracy: 0.9671 - val_loss: 0.1063 - val_accuracy: 0.9679\n",
      "Epoch 18/50\n",
      "625/625 [==============================] - 1s 1ms/step - loss: 0.1098 - accuracy: 0.9675 - val_loss: 0.1069 - val_accuracy: 0.9687\n",
      "Epoch 19/50\n",
      "625/625 [==============================] - 1s 1ms/step - loss: 0.1087 - accuracy: 0.9677 - val_loss: 0.1037 - val_accuracy: 0.9676\n",
      "Epoch 20/50\n",
      "625/625 [==============================] - 1s 1ms/step - loss: 0.1078 - accuracy: 0.9681 - val_loss: 0.1050 - val_accuracy: 0.9685\n",
      "Epoch 21/50\n",
      "625/625 [==============================] - 1s 1ms/step - loss: 0.1077 - accuracy: 0.9681 - val_loss: 0.1048 - val_accuracy: 0.9674\n",
      "Epoch 22/50\n",
      "625/625 [==============================] - 1s 1ms/step - loss: 0.1071 - accuracy: 0.9680 - val_loss: 0.1057 - val_accuracy: 0.9693\n",
      "Epoch 23/50\n",
      "625/625 [==============================] - 1s 1ms/step - loss: 0.1066 - accuracy: 0.9686 - val_loss: 0.1017 - val_accuracy: 0.9693\n",
      "Epoch 24/50\n",
      "625/625 [==============================] - 1s 1ms/step - loss: 0.1057 - accuracy: 0.9689 - val_loss: 0.1052 - val_accuracy: 0.9672\n",
      "Epoch 25/50\n",
      "625/625 [==============================] - 1s 1ms/step - loss: 0.1053 - accuracy: 0.9689 - val_loss: 0.1005 - val_accuracy: 0.9689\n",
      "Epoch 26/50\n",
      "625/625 [==============================] - 1s 1ms/step - loss: 0.1048 - accuracy: 0.9689 - val_loss: 0.1010 - val_accuracy: 0.9689\n",
      "Epoch 27/50\n",
      "625/625 [==============================] - 1s 1ms/step - loss: 0.1044 - accuracy: 0.9689 - val_loss: 0.0992 - val_accuracy: 0.9686\n",
      "Epoch 28/50\n",
      "625/625 [==============================] - 1s 1ms/step - loss: 0.1044 - accuracy: 0.9692 - val_loss: 0.0978 - val_accuracy: 0.9693\n",
      "Epoch 29/50\n",
      "625/625 [==============================] - 1s 1ms/step - loss: 0.1034 - accuracy: 0.9694 - val_loss: 0.1034 - val_accuracy: 0.9696\n",
      "Epoch 30/50\n",
      "625/625 [==============================] - 1s 1ms/step - loss: 0.1033 - accuracy: 0.9693 - val_loss: 0.0980 - val_accuracy: 0.9700\n",
      "Epoch 31/50\n",
      "625/625 [==============================] - 1s 1ms/step - loss: 0.1024 - accuracy: 0.9695 - val_loss: 0.0984 - val_accuracy: 0.9695\n",
      "Epoch 32/50\n",
      "625/625 [==============================] - 1s 1ms/step - loss: 0.1024 - accuracy: 0.9696 - val_loss: 0.1020 - val_accuracy: 0.9702\n",
      "Epoch 33/50\n",
      "625/625 [==============================] - 1s 1ms/step - loss: 0.1017 - accuracy: 0.9699 - val_loss: 0.0972 - val_accuracy: 0.9696\n",
      "Epoch 34/50\n",
      "625/625 [==============================] - 1s 1ms/step - loss: 0.1015 - accuracy: 0.9696 - val_loss: 0.0975 - val_accuracy: 0.9699\n",
      "Epoch 35/50\n",
      "625/625 [==============================] - 1s 2ms/step - loss: 0.1011 - accuracy: 0.9696 - val_loss: 0.0958 - val_accuracy: 0.9696\n",
      "Epoch 36/50\n",
      "625/625 [==============================] - 1s 1ms/step - loss: 0.1008 - accuracy: 0.9699 - val_loss: 0.1023 - val_accuracy: 0.9684\n",
      "Epoch 37/50\n",
      "625/625 [==============================] - 1s 1ms/step - loss: 0.1004 - accuracy: 0.9701 - val_loss: 0.0970 - val_accuracy: 0.9708\n",
      "Epoch 38/50\n",
      "625/625 [==============================] - 1s 1ms/step - loss: 0.1002 - accuracy: 0.9701 - val_loss: 0.1015 - val_accuracy: 0.9697\n",
      "Epoch 39/50\n",
      "625/625 [==============================] - 1s 1ms/step - loss: 0.1000 - accuracy: 0.9700 - val_loss: 0.0977 - val_accuracy: 0.9697\n",
      "Epoch 40/50\n",
      "625/625 [==============================] - 1s 1ms/step - loss: 0.1001 - accuracy: 0.9700 - val_loss: 0.0974 - val_accuracy: 0.9698\n",
      "Epoch 41/50\n",
      "625/625 [==============================] - 1s 1ms/step - loss: 0.0997 - accuracy: 0.9703 - val_loss: 0.0959 - val_accuracy: 0.9703\n",
      "Restoring model weights from the end of the best epoch.\n",
      "Epoch 00041: early stopping\n",
      "313/313 [==============================] - 0s 610us/step - loss: 0.0958 - accuracy: 0.9696\n",
      "Accuracy: 0.9696000218391418 , Elapsed time: 34.181127071380615\n"
     ]
    }
   ],
   "source": [
    "t = time.time(); t_total = 0    \n",
    "deep_layers = 3\n",
    "num_units = 100\n",
    "learning_rate = 1e-4\n",
    "epochs = 50\n",
    "\n",
    "my_callbacks = [tf.keras.callbacks.EarlyStopping(\n",
    "                               monitor='val_loss', mode='min',\n",
    "                               min_delta=0, \n",
    "                               patience=6,\n",
    "                               verbose=1,\n",
    "                               restore_best_weights=1)]\n",
    "    \n",
    "\n",
    "model2 = tf.keras.Sequential()\n",
    "model2.add(tf.keras.layers.InputLayer(int(X_train.shape[1],)))\n",
    "model2.add(Dense(num_units, input_shape=(int(X_train.shape[1]),)))\n",
    "    \n",
    "for i in range(deep_layers):        \n",
    "    model2.add(Dense(num_units, activation='relu'))\n",
    "model2.add(Dense(3, activation=tf.nn.softmax))\n",
    "    \n",
    "optimizer = tf.keras.optimizers.Adam(learning_rate=learning_rate, beta_1=0.9, beta_2=0.999, epsilon=1e-3)\n",
    "model2.compile(optimizer=optimizer, loss='categorical_crossentropy', metrics=[\"accuracy\"])\n",
    "train2 = model2.fit(X_train, Y_train, epochs=epochs, validation_data=(X_val, Y_val),\n",
    "                    callbacks=my_callbacks, batch_size=128, shuffle=1, verbose=1)\n",
    "    \n",
    "loss, score = model2.evaluate(X_val, Y_val)    \n",
    "t = time.time()-t\n",
    "print(\"Accuracy:\", score, \", Elapsed time:\", t)"
   ]
  },
  {
   "cell_type": "code",
   "execution_count": 24,
   "metadata": {},
   "outputs": [
    {
     "data": {
      "image/png": "[encoded data removed]",
      "text/plain": [
       "<Figure size 360x360 with 1 Axes>"
      ]
     },
     "metadata": {
      "needs_background": "light"
     },
     "output_type": "display_data"
    }
   ],
   "source": [
    "X_test_inverse = scaler.inverse_transform(X_test)\n",
    "labels=['Star','Galaxy','QSO']\n",
    "porcentaje = True\n",
    "\n",
    "# titles.append(f\"Confusion matrix model\")\n",
    "# plot_cm(Y_test, model1.predict(X_test), labels, porcentaje=porcentaje)\n",
    "fig = plt.figure(figsize=(5,5))\n",
    "ax = fig.add_subplot(111)\n",
    "\n",
    "y_pred = model2.predict(X_test)\n",
    "y_test=np.argmax(Y_test, axis=1)\n",
    "y_pred=np.argmax(y_pred, axis=1)\n",
    "plot_cm(Y_test, y_pred, labels=labels, porcentaje=False, ax=ax)\n",
    "plt.title(\"Genetic algorithm\")\n",
    "plt.savefig(\"classification_genetic_cm.png\")"
   ]
  },
  {
   "cell_type": "code",
   "execution_count": 50,
   "metadata": {},
   "outputs": [
    {
     "data": {
      "image/png": "[encoded data removed]",
      "text/plain": [
       "<Figure size 432x432 with 1 Axes>"
      ]
     },
     "metadata": {
      "needs_background": "light"
     },
     "output_type": "display_data"
    }
   ],
   "source": [
    "fig = plt.figure(figsize=(6,6))\n",
    "ax = fig.add_subplot(111)\n",
    "plt.plot(train2.history['loss'], label='Training')\n",
    "plt.plot(train2.history['val_loss'], label='Validation')\n",
    "plt.ylim(0.09, 0.3)\n",
    "plt.xlabel('Epochs')\n",
    "plt.ylabel('Loss function')\n",
    "ax.yaxis.set_major_formatter(FormatStrFormatter('%.2f'))\n",
    "plt.legend(loc='upper right')\n",
    "plt.title(\"Genetic algorithm\")\n",
    "plt.savefig(\"classification_genetic_loss.png\")"
   ]
  },
  {
   "cell_type": "code",
   "execution_count": 23,
   "metadata": {},
   "outputs": [
    {
     "name": "stdout",
     "output_type": "stream",
     "text": [
      "Accuracy: 0.9704\n",
      "Precision: 0.9702349266863188\n",
      "F1: 0.9702137707552052\n"
     ]
    }
   ],
   "source": [
    "# other metrics\n",
    "am = accuracy_score(y_test, y_pred)\n",
    "pm = precision_score(y_test, y_pred, average='weighted')\n",
    "# rm = roc_auc_score(y_test, y_pred,multi_class='ovr')\n",
    "fm = f1_score(y_test, y_pred, average='weighted')\n",
    "\n",
    "print(\"Accuracy:\", am)\n",
    "print(\"Precision:\", pm)\n",
    "print(\"F1:\", fm)"
   ]
  },
  {
   "cell_type": "code",
   "execution_count": null,
   "metadata": {},
   "outputs": [],
   "source": []
  }
 ],
 "metadata": {
  "colab": {
   "name": "Stellar_Classifier.ipynb",
   "provenance": []
  },
  "kernelspec": {
   "display_name": "Python 3",
   "language": "python",
   "name": "python3"
  },
  "language_info": {
   "codemirror_mode": {
    "name": "ipython",
    "version": 3
   },
   "file_extension": ".py",
   "mimetype": "text/x-python",
   "name": "python",
   "nbconvert_exporter": "python",
   "pygments_lexer": "ipython3",
   "version": "3.8.10"
  },
  "latex_envs": {
   "LaTeX_envs_menu_present": true,
   "autoclose": false,
   "autocomplete": false,
   "bibliofile": "biblio.bib",
   "cite_by": "apalike",
   "current_citInitial": 1,
   "eqLabelWithNumbers": true,
   "eqNumInitial": 1,
   "hotkeys": {
    "equation": "Ctrl-E",
    "itemize": "Ctrl-I"
   },
   "labels_anchors": false,
   "latex_user_defs": false,
   "report_style_numbering": true,
   "user_envs_cfg": true
  },
  "notify_time": "5",
  "varInspector": {
   "cols": {
    "lenName": 16,
    "lenType": 16,
    "lenVar": 40
   },
   "kernels_config": {
    "python": {
     "delete_cmd_postfix": "",
     "delete_cmd_prefix": "del ",
     "library": "var_list.py",
     "varRefreshCmd": "print(var_dic_list())"
    },
    "r": {
     "delete_cmd_postfix": ") ",
     "delete_cmd_prefix": "rm(",
     "library": "var_list.r",
     "varRefreshCmd": "cat(var_dic_list()) "
    }
   },
   "types_to_exclude": [
    "module",
    "function",
    "builtin_function_or_method",
    "instance",
    "_Feature"
   ],
   "window_display": false
  }
 },
 "nbformat": 4,
 "nbformat_minor": 1
}
