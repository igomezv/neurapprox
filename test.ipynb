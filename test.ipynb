{
 "cells": [
  {
   "cell_type": "code",
   "execution_count": 1,
   "metadata": {},
   "outputs": [
    {
     "name": "stderr",
     "output_type": "stream",
     "text": [
      "Using TensorFlow backend.\n"
     ]
    }
   ],
   "source": [
    "import numpy as np\n",
    "import pandas as pd\n",
    "import matplotlib.pyplot as plt\n",
    "from tensorflow import keras\n",
    "from tensorflow.keras import layers\n",
    "from sklearn.metrics import mean_squared_error\n",
    "from sklearn.model_selection import train_test_split as split\n",
    "\n",
    "from keras.layers import LSTM, Input, Dense\n",
    "from keras.models import Model\n",
    "\n",
    "from deap import base, creator, tools, algorithms\n",
    "from scipy.stats import bernoulli\n",
    "from bitstring import BitArray"
   ]
  },
  {
   "cell_type": "code",
   "execution_count": 2,
   "metadata": {},
   "outputs": [],
   "source": [
    "np.random.seed(1120)"
   ]
  },
  {
   "cell_type": "code",
   "execution_count": 3,
   "metadata": {},
   "outputs": [
    {
     "name": "stdout",
     "output_type": "stream",
     "text": [
      "       k         r         x  A[k,r,x]\n",
      "0  0.001  0.010817 -0.973907  1.009217\n",
      "1  0.001  0.010817 -0.679410  1.009143\n",
      "2  0.001  0.010817 -0.148874  1.009077\n",
      "3  0.001  0.010817  0.148874  1.009077\n",
      "4  0.001  0.010817  0.679410  1.009142\n"
     ]
    }
   ],
   "source": [
    "data = pd.read_csv('./data/AT.dat', delimiter=\"\\t\",\n",
    "                   skiprows=[0], names=[\"k\",\"r\",\"x\",\"A[k,r,x]\"])\n",
    "print(data.head())\n",
    "data = data.to_numpy()\n",
    "\n",
    "# Use first 8,056 points as training/validation and rest as test set.\n",
    "train_data = data[0:8056]\n",
    "test_data = data[8056:]"
   ]
  },
  {
   "cell_type": "markdown",
   "metadata": {},
   "source": [
    "### Implementation\n",
    "Now, we have a fair understanding of what GA is and how it works. Next, let’s get to coding.\n",
    "\n",
    "We will use wind power forecast data, which is available at the following link. It consists of normalized (between zero and one) wind power measurements from seven wind farms. To keep things simple, we will use first wind farm data (column named wp1) but I encourage the reader to experiment and extend the code to forecast energy for all seven, wind farms.\n",
    "\n",
    "Let’s import required packages, load the dataset and define two helper functions. The first method prepare_dataset will segment the data into chunks to create X, Y pair for model training. The X will the wind power values from the past (e.g. 1 to t-1) and Y will be future value at time t. The second method train_evaluate perform three things, 1) decoding GA solution to get window size and number of units. 2) Prepare the dataset using window size found by GA and divide into train and validation set, and 3) train LSTM model, calculate RMSE on validation set and return it as a fitness score of the current GA solution."
   ]
  },
  {
   "cell_type": "code",
   "execution_count": 4,
   "metadata": {},
   "outputs": [
    {
     "data": {
      "text/plain": [
       "(8556, 3)"
      ]
     },
     "execution_count": 4,
     "metadata": {},
     "output_type": "execute_result"
    }
   ],
   "source": [
    "data[:,1].shape\n",
    "data[:,0:3].shape"
   ]
  },
  {
   "cell_type": "code",
   "execution_count": 5,
   "metadata": {},
   "outputs": [
    {
     "data": {
      "text/plain": [
       "array([0., 0., 0., 0., 0.])"
      ]
     },
     "execution_count": 5,
     "metadata": {},
     "output_type": "execute_result"
    }
   ],
   "source": [
    "np.zeros(11)[6:11]"
   ]
  },
  {
   "cell_type": "code",
   "execution_count": 15,
   "metadata": {},
   "outputs": [],
   "source": [
    "def prepare_dataset(data):\n",
    "    X, Y = np.empty((0)), np.empty((0))\n",
    "    X = data[:,0:3]\n",
    "    Y = data[:,3]  \n",
    "    return X, Y\n",
    "\n",
    "def train_evaluate(ga_individual_solution):   \n",
    "    # Decode GA solution to integer for window_size and num_units\n",
    "    deep_size_bits = BitArray(ga_individual_solution[0:6])\n",
    "    num_units_bits = BitArray(ga_individual_solution[6:10])\n",
    "    learning_rate_bits = BitArray(ga_individual_solution[10:])\n",
    "    \n",
    "    deep_size = deep_size_bits.uint +1\n",
    "    num_units = num_units_bits.uint +1\n",
    "    learning_rate = (learning_rate_bits.uint+1)*10**(-4)\n",
    "    \n",
    "    print('\\nDeep Size: ', deep_size, ', Num of Units: ', num_units, ', Learning rate: ', learning_rate)\n",
    "    \n",
    "    # Return fitness score of 100 if window_size or num_unit is zero\n",
    "    if deep_size == 0 or num_units == 0 or learning_rate == 0:\n",
    "        return 10000, \n",
    "    \n",
    "    # Segment the train_data based on new window_size; split into train and validation (80/20)\n",
    "    X,Y = prepare_dataset(train_data)\n",
    "    X_train, X_val, y_train, y_val = split(X, Y, test_size = 0.20, random_state = 1120)\n",
    "    \n",
    "    # Train LSTM model and predict on validation set\n",
    "    model = keras.Sequential()\n",
    "    model.add(keras.Input(shape=(3,)))\n",
    "    model.add(layers.Dense(num_units, input_shape=(3,)))\n",
    "#     x = LSTM(num_units, input_shape=(window_size,1))(inputs)\n",
    "    \n",
    "    for i in range(deep_size):        \n",
    "        model.add(layers.Dense(num_units, activation='relu'))\n",
    "    model.add(layers.Dense(1, activation='linear'))\n",
    "    \n",
    "    optimizer = keras.optimizers.Adam(learning_rate=learning_rate, beta_1=0.9, beta_2=0.999, epsilon=1e-3)\n",
    "    model.compile(optimizer=optimizer,loss='mean_squared_error')\n",
    "    model.fit(X_train, y_train, epochs=5, batch_size=10, shuffle=True)\n",
    "    y_pred = model.predict(X_val)\n",
    "    \n",
    "    # Calculate the RMSE score as fitness score for GA\n",
    "    rmse = np.sqrt(mean_squared_error(y_val, y_pred))\n",
    "    print('Validation RMSE: ', rmse,'\\n')\n",
    "    \n",
    "    return rmse,"
   ]
  },
  {
   "cell_type": "markdown",
   "metadata": {},
   "source": [
    "A continuación, use la paquetería DEAP para definir las cosas para ejecutar GA. Usaremos una representación binaria para la solución de longitud diez. Se inicializará aleatoriamente utilizando la distribución de Bernoulli. Del mismo modo, se utiliza el crossover ordenado, la mutación aleatoria y la selección de la rueda de la ruleta. Los valores del parámetro GA se inicializan arbitrariamente; Te sugerimos que juegues con diferentes configuraciones.\n",
    "\n"
   ]
  },
  {
   "cell_type": "code",
   "execution_count": 16,
   "metadata": {
    "scrolled": false
   },
   "outputs": [
    {
     "name": "stderr",
     "output_type": "stream",
     "text": [
      "C:\\Users\\Joshu\\.conda\\envs\\tensorflow\\lib\\site-packages\\deap\\creator.py:141: RuntimeWarning: A class named 'FitnessMax' has already been created and it will be overwritten. Consider deleting previous creation of that class or rename it.\n",
      "  RuntimeWarning)\n",
      "C:\\Users\\Joshu\\.conda\\envs\\tensorflow\\lib\\site-packages\\deap\\creator.py:141: RuntimeWarning: A class named 'Individual' has already been created and it will be overwritten. Consider deleting previous creation of that class or rename it.\n",
      "  RuntimeWarning)\n"
     ]
    },
    {
     "name": "stdout",
     "output_type": "stream",
     "text": [
      "\n",
      "Deep Size:  42 , Num of Units:  9 , Learning rate:  0.0009000000000000001\n",
      "Train on 6444 samples\n",
      "Epoch 1/5\n",
      "6444/6444 [==============================] - ETA: 0s - loss: 0.0962- E - 18s 3ms/sample - loss: 0.0960\n",
      "Epoch 2/5\n",
      "6444/6444 [==============================] - 7s 1ms/sample - loss: 0.0021\n",
      "Epoch 3/5\n",
      "6444/6444 [==============================] - 7s 1ms/sample - loss: 0.0021\n",
      "Epoch 4/5\n",
      "6444/6444 [==============================] - 7s 1ms/sample - loss: 0.0021\n",
      "Epoch 5/5\n",
      "6444/6444 [==============================] - 8s 1ms/sample - loss: 0.0021ETA: 0s -\n",
      "Validation RMSE:  0.04496596678259899 \n",
      "\n",
      "\n",
      "Deep Size:  7 , Num of Units:  13 , Learning rate:  0.0015\n",
      "Train on 6444 samples\n",
      "Epoch 1/5\n",
      "6444/6444 [==============================] - 7s 1ms/sample - loss: 12.0084\n",
      "Epoch 2/5\n",
      "6444/6444 [==============================] - 5s 712us/sample - loss: 1.2064\n",
      "Epoch 3/5\n",
      "6444/6444 [==============================] - 4s 624us/sample - loss: 0.0125\n",
      "Epoch 4/5\n",
      "6444/6444 [==============================] - 4s 551us/sample - loss: 0.0020\n",
      "Epoch 5/5\n",
      "6444/6444 [==============================] - 4s 582us/sample - loss: 8.3406e-04\n",
      "Validation RMSE:  0.024263421299512672 \n",
      "\n",
      "\n",
      "Deep Size:  24 , Num of Units:  7 , Learning rate:  0.0004\n",
      "Train on 6444 samples\n",
      "Epoch 1/5\n",
      "6444/6444 [==============================] - 12s 2ms/sample - loss: 0.2846\n",
      "Epoch 2/5\n",
      "6444/6444 [==============================] - 5s 800us/sample - loss: 0.0018\n",
      "Epoch 3/5\n",
      "6444/6444 [==============================] - 8s 1ms/sample - loss: 0.0017\n",
      "Epoch 4/5\n",
      "6444/6444 [==============================] - 7s 1ms/sample - loss: 0.0016\n",
      "Epoch 5/5\n",
      "6444/6444 [==============================] - 8s 1ms/sample - loss: 0.0016\n",
      "Validation RMSE:  0.03938928810185145 \n",
      "\n",
      "\n",
      "Deep Size:  5 , Num of Units:  15 , Learning rate:  0.0016\n",
      "Train on 6444 samples\n",
      "Epoch 1/5\n",
      "6444/6444 [==============================] - 8s 1ms/sample - loss: 5.8046\n",
      "Epoch 2/5\n",
      "6444/6444 [==============================] - 6s 857us/sample - loss: 0.0518\n",
      "Epoch 3/5\n",
      "6444/6444 [==============================] - 4s 645us/sample - loss: 0.0275\n",
      "Epoch 4/5\n",
      "6444/6444 [==============================] - 4s 606us/sample - loss: 0.0078\n",
      "Epoch 5/5\n",
      "6444/6444 [==============================] - 4s 692us/sample - loss: 0.0676\n",
      "Validation RMSE:  0.05234932002325382 \n",
      "\n",
      "gen\tnevals\n",
      "0  \t4     \n",
      "\n",
      "Deep Size:  33 , Num of Units:  1 , Learning rate:  0.0009000000000000001\n",
      "Train on 6444 samples\n",
      "Epoch 1/5\n",
      "6444/6444 [==============================] - 15s 2ms/sample - loss: 0.6602\n",
      "Epoch 2/5\n",
      "6444/6444 [==============================] - 8s 1ms/sample - loss: 0.1558\n",
      "Epoch 3/5\n",
      "6444/6444 [==============================] - 8s 1ms/sample - loss: 0.0221\n",
      "Epoch 4/5\n",
      "6444/6444 [==============================] - 11s 2ms/sample - loss: 0.00312s - loss: - ETA: - ETA: 0s - l\n",
      "Epoch 5/5\n",
      "6444/6444 [==============================] - 9s 1ms/sample - loss: 0.0020\n",
      "Validation RMSE:  0.044763559638519315 \n",
      "\n",
      "\n",
      "Deep Size:  32 , Num of Units:  15 , Learning rate:  0.0016\n",
      "Train on 6444 samples\n",
      "Epoch 1/5\n",
      "6444/6444 [==============================] - 16s 3ms/sample - loss: 0.03750s - loss: 0.037\n",
      "Epoch 2/5\n",
      "6444/6444 [==============================] - 9s 1ms/sample - loss: 0.0018\n",
      "Epoch 3/5\n",
      "6444/6444 [==============================] - 13s 2ms/sample - loss: 0.0018\n",
      "Epoch 4/5\n",
      "6444/6444 [==============================] - 16s 2ms/sample - loss: 9.1728e-040s - loss: 9.2152e\n",
      "Epoch 5/5\n",
      "6444/6444 [==============================] - 17s 3ms/sample - loss: 6.3298e-040s - loss: 6.3360e\n",
      "Validation RMSE:  0.023739198585414775 \n",
      "\n",
      "1  \t2     \n",
      "\n",
      "Deep Size:  42 , Num of Units:  9 , Learning rate:  0.0009000000000000001\n",
      "Train on 6444 samples\n",
      "Epoch 1/5\n",
      "6444/6444 [==============================] - 29s 5ms/sample - loss: 0.1015\n",
      "Epoch 2/5\n",
      "6444/6444 [==============================] - 11s 2ms/sample - loss: 0.0021\n",
      "Epoch 3/5\n",
      "6444/6444 [==============================] - 10s 2ms/sample - loss: 0.0021\n",
      "Epoch 4/5\n",
      "6444/6444 [==============================] - 10s 1ms/sample - loss: 0.0019\n",
      "Epoch 5/5\n",
      "6444/6444 [==============================] - 9s 1ms/sample - loss: 0.0017\n",
      "Validation RMSE:  0.03980196431703089 \n",
      "\n",
      "\n",
      "Deep Size:  42 , Num of Units:  9 , Learning rate:  0.0009000000000000001\n",
      "Train on 6444 samples\n",
      "Epoch 1/5\n",
      "6444/6444 [==============================] - 24s 4ms/sample - loss: 0.08220s - loss:\n",
      "Epoch 2/5\n",
      "6444/6444 [==============================] - 10s 2ms/sample - loss: 0.0021\n",
      "Epoch 3/5\n",
      "6444/6444 [==============================] - 13s 2ms/sample - loss: 0.0021\n",
      "Epoch 4/5\n",
      "6444/6444 [==============================] - 11s 2ms/sample - loss: 0.0021\n",
      "Epoch 5/5\n",
      "6444/6444 [==============================] - 11s 2ms/sample - loss: 0.0021\n",
      "Validation RMSE:  0.044815526778463406 \n",
      "\n",
      "2  \t2     \n",
      "\n",
      "Deep Size:  2 , Num of Units:  11 , Learning rate:  0.001\n",
      "Train on 6444 samples\n",
      "Epoch 1/5\n",
      "6444/6444 [==============================] - 5s 853us/sample - loss: 220.0763\n",
      "Epoch 2/5\n",
      "6444/6444 [==============================] - 3s 517us/sample - loss: 0.5403\n",
      "Epoch 3/5\n",
      "6444/6444 [==============================] - 4s 658us/sample - loss: 0.9995s \n",
      "Epoch 4/5\n",
      "6444/6444 [==============================] - 4s 596us/sample - loss: 39.8840\n",
      "Epoch 5/5\n",
      "6444/6444 [==============================] - 3s 497us/sample - loss: 60.5342\n",
      "Validation RMSE:  0.5626113310820617 \n",
      "\n",
      "3  \t1     \n"
     ]
    }
   ],
   "source": [
    "population_size = 4\n",
    "num_generations = 3\n",
    "gene_length = 14\n",
    "\n",
    "# As we are trying to minimize the RMSE score, that's why using -1.0. \n",
    "# In case, when you want to maximize accuracy for instance, use 1.0\n",
    "creator.create('FitnessMax', base.Fitness, weights = (-1.0,))\n",
    "creator.create('Individual', list , fitness = creator.FitnessMax)\n",
    "\n",
    "toolbox = base.Toolbox()\n",
    "toolbox.register('binary', bernoulli.rvs, 0.5)\n",
    "toolbox.register('individual', tools.initRepeat, creator.Individual, toolbox.binary, \n",
    "n = gene_length)\n",
    "toolbox.register('population', tools.initRepeat, list , toolbox.individual)\n",
    "\n",
    "toolbox.register('mate', tools.cxOrdered)\n",
    "toolbox.register('mutate', tools.mutShuffleIndexes, indpb = 0.6)\n",
    "toolbox.register('select', tools.selRoulette)\n",
    "toolbox.register('evaluate', train_evaluate)\n",
    "\n",
    "population = toolbox.population(n = population_size)\n",
    "r = algorithms.eaSimple(population, toolbox, cxpb = 0.4, mutpb = 0.1, \n",
    "                        ngen = num_generations, verbose = True)"
   ]
  },
  {
   "cell_type": "markdown",
   "metadata": {},
   "source": [
    "La solución K mejor encontrada a través de GA se puede ver fácilmente usando tools.selBest(population,k = 1). Después, la configuración óptima se puede utilizar para entrenar en el conjunto de entrenamiento completo y probarlo en el conjunto de prueba de espera."
   ]
  },
  {
   "cell_type": "code",
   "execution_count": 17,
   "metadata": {},
   "outputs": [
    {
     "name": "stdout",
     "output_type": "stream",
     "text": [
      "\n",
      "Deep Size:  33 , Num of Units:  1 , Learning rate:  0.0001\n"
     ]
    }
   ],
   "source": [
    "# Print top N solutions - (1st only, for now)\n",
    "best_individuals = tools.selBest(population,k = 1)\n",
    "best_deep_size = None\n",
    "best_num_units = None\n",
    "best_learning_rate = None\n",
    "\n",
    "for bi in best_individuals:\n",
    "    deep_size_bits = BitArray(bi[0:6])\n",
    "    num_units_bits = BitArray(bi[6:10])\n",
    "    learning_rate_bits = BitArray(bi[6:10])\n",
    "        \n",
    "    best_deep_size = deep_size_bits.uint +1\n",
    "    best_num_units = num_units_bits.uint +1\n",
    "    best_learning_rate = (learning_rate_bits.uint + 1)*10**(-4)\n",
    "    print('\\nDeep Size: ', best_deep_size, ', Num of Units: ', best_num_units, ', Learning rate: ', best_learning_rate)"
   ]
  },
  {
   "cell_type": "code",
   "execution_count": 18,
   "metadata": {},
   "outputs": [
    {
     "name": "stdout",
     "output_type": "stream",
     "text": [
      "Train on 8056 samples\n",
      "Epoch 1/5\n",
      "8056/8056 [==============================] - 19s 2ms/sample - loss: 1.0476\n",
      "Epoch 2/5\n",
      "8056/8056 [==============================] - 11s 1ms/sample - loss: 0.8943\n",
      "Epoch 3/5\n",
      "8056/8056 [==============================] - 12s 2ms/sample - loss: 0.7569\n",
      "Epoch 4/5\n",
      "8056/8056 [==============================] - 11s 1ms/sample - loss: 0.63360s - los\n",
      "Epoch 5/5\n",
      "8056/8056 [==============================] - 10s 1ms/sample - loss: 0.5233\n",
      "Test RMSE:  0.7170667180173176\n"
     ]
    }
   ],
   "source": [
    "# Train the model using best configuration on complete training set \n",
    "#and make predictions on the test set\n",
    "X_train,y_train = prepare_dataset(train_data)\n",
    "X_test, y_test = prepare_dataset(test_data)\n",
    "\n",
    "model = keras.Sequential()\n",
    "model.add(keras.Input(shape=(3,)))\n",
    "model.add(layers.Dense(best_num_units, input_shape=(3,)))\n",
    "#     x = LSTM(num_units, input_shape=(window_size,1))(inputs)\n",
    "\n",
    "for i in range(best_deep_size):        \n",
    "    model.add(layers.Dense(best_num_units, activation='relu'))\n",
    "model.add(layers.Dense(1, activation='linear'))\n",
    "\n",
    "optimizer = keras.optimizers.Adam(learning_rate=best_learning_rate, beta_1=0.9, beta_2=0.999, epsilon=1e-3)\n",
    "model.compile(optimizer=optimizer, loss='mean_squared_error')\n",
    "model.fit(X_train, y_train, epochs=5, batch_size=10,shuffle=True)\n",
    "y_pred = model.predict(X_test)\n",
    "\n",
    "rmse = np.sqrt(mean_squared_error(y_test, y_pred))\n",
    "print('Test RMSE: ', rmse)"
   ]
  },
  {
   "cell_type": "code",
   "execution_count": 10,
   "metadata": {},
   "outputs": [
    {
     "data": {
      "text/plain": [
       "array([0., 0.])"
      ]
     },
     "execution_count": 10,
     "metadata": {},
     "output_type": "execute_result"
    }
   ],
   "source": [
    "np.zeros(12)[10:]"
   ]
  },
  {
   "cell_type": "code",
   "execution_count": null,
   "metadata": {},
   "outputs": [],
   "source": []
  }
 ],
 "metadata": {
  "kernelspec": {
   "display_name": "Python 3",
   "language": "python",
   "name": "python3"
  },
  "language_info": {
   "codemirror_mode": {
    "name": "ipython",
    "version": 3
   },
   "file_extension": ".py",
   "mimetype": "text/x-python",
   "name": "python",
   "nbconvert_exporter": "python",
   "pygments_lexer": "ipython3",
   "version": "3.7.7"
  },
  "latex_envs": {
   "LaTeX_envs_menu_present": true,
   "autoclose": false,
   "autocomplete": false,
   "bibliofile": "biblio.bib",
   "cite_by": "apalike",
   "current_citInitial": 1,
   "eqLabelWithNumbers": true,
   "eqNumInitial": 1,
   "hotkeys": {
    "equation": "Ctrl-E",
    "itemize": "Ctrl-I"
   },
   "labels_anchors": false,
   "latex_user_defs": false,
   "report_style_numbering": true,
   "user_envs_cfg": true
  }
 },
 "nbformat": 4,
 "nbformat_minor": 4
}
