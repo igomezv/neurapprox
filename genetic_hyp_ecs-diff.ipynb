{
  "cells": [
    {
      "cell_type": "code",
      "source": [
        "!pip install deap\n",
        "!pip install bitstring\n",
        "from google.colab import drive\n",
        "drive.mount('/content/drive')\n",
        "!cp /content/drive/MyDrive/neuroapprox/elitism.py /content"
      ],
      "metadata": {
        "colab": {
          "base_uri": "https://localhost:8080/"
        },
        "id": "DYc45CWnJvmp",
        "outputId": "1d38116b-48d2-4a15-c9c2-5794fe3745f3"
      },
      "execution_count": 1,
      "outputs": [
        {
          "output_type": "stream",
          "name": "stdout",
          "text": [
            "Looking in indexes: https://pypi.org/simple, https://us-python.pkg.dev/colab-wheels/public/simple/\n",
            "Requirement already satisfied: deap in /usr/local/lib/python3.7/dist-packages (1.3.1)\n",
            "Requirement already satisfied: numpy in /usr/local/lib/python3.7/dist-packages (from deap) (1.21.6)\n",
            "Looking in indexes: https://pypi.org/simple, https://us-python.pkg.dev/colab-wheels/public/simple/\n",
            "Requirement already satisfied: bitstring in /usr/local/lib/python3.7/dist-packages (3.1.9)\n",
            "Drive already mounted at /content/drive; to attempt to forcibly remount, call drive.mount(\"/content/drive\", force_remount=True).\n"
          ]
        }
      ]
    },
    {
      "cell_type": "code",
      "execution_count": 2,
      "metadata": {
        "colab": {
          "base_uri": "https://localhost:8080/"
        },
        "id": "WadF7ROCIukU",
        "outputId": "46588aec-8b5f-40dd-e766-7549288a96f5"
      },
      "outputs": [
        {
          "output_type": "stream",
          "name": "stdout",
          "text": [
            "Elitism succesfully imported\n"
          ]
        }
      ],
      "source": [
        "import numpy as np\n",
        "import pandas as pd\n",
        "import matplotlib as mpl\n",
        "import matplotlib.pyplot as plt\n",
        "import time, os\n",
        "import random\n",
        "import seaborn as sns\n",
        "\n",
        "import tensorflow as tf\n",
        "from tensorflow import keras\n",
        "from tensorflow.keras.layers import Input, Dense, LeakyReLU\n",
        "from tensorflow.keras.utils import to_categorical\n",
        "from tensorboard.plugins.hparams import api as hp\n",
        "\n",
        "from tensorflow.keras import activations\n",
        "from tensorflow.keras.losses import CategoricalCrossentropy\n",
        "from tensorflow.keras.models import Model\n",
        "\n",
        "import random\n",
        "from math import floor\n",
        "from tensorflow.keras import models\n",
        "from tensorflow.keras import layers\n",
        "from tensorflow.keras import optimizers\n",
        "from scipy.integrate import odeint\n",
        "\n",
        "from sklearn.metrics import accuracy_score\n",
        "from sklearn.preprocessing import StandardScaler\n",
        "from sklearn.model_selection import train_test_split as split\n",
        "from scipy.stats import bernoulli\n",
        "\n",
        "# import deap\n",
        "from deap import base, creator, tools, algorithms\n",
        "\n",
        "from bitstring import BitArray\n",
        "\n",
        "from elitism import eaSimpleWithElitism, main"
      ]
    },
    {
      "cell_type": "code",
      "execution_count": 3,
      "metadata": {
        "id": "CB_1KdgUIukr"
      },
      "outputs": [],
      "source": [
        "np.random.seed(10)\n",
        "\n",
        "tf.config.optimizer.set_jit(True)\n",
        "scaler = StandardScaler()"
      ]
    },
    {
      "cell_type": "code",
      "execution_count": 4,
      "metadata": {
        "id": "J9p2IgUMIukt"
      },
      "outputs": [],
      "source": [
        "#algorithm for splitting the dataset into training and validation \n",
        "def split(X,Y,porcent): #porcent must be between 0 and 1, it is the asigned porcent to the training dataset.\n",
        "    n=floor(porcent*len(X))\n",
        "    index=random.sample(range(len(X)),n)\n",
        "    X_learn=[]\n",
        "    Y_learn=[]\n",
        "    for i in index:\n",
        "        X_learn.append(X[i])\n",
        "        Y_learn.append(Y[i])\n",
        "    X_val=np.delete(X,index, axis=0)\n",
        "    Y_val=np.delete(Y,index, axis=0)\n",
        "    \n",
        "    X_learn=np.array(X_learn)\n",
        "    Y_learn=np.array(Y_learn)\n",
        "    return X_learn,Y_learn,X_val,Y_val"
      ]
    },
    {
      "cell_type": "code",
      "execution_count": 5,
      "metadata": {
        "id": "2cbr88iMIukw"
      },
      "outputs": [],
      "source": [
        "O_m=np.arange(0.1,0.51,0.01)\n",
        "H_0=np.arange(66,81,1)\n",
        "t=np.linspace(0,-12,50)"
      ]
    },
    {
      "cell_type": "code",
      "execution_count": 6,
      "metadata": {
        "id": "rF3YyuMiIuky"
      },
      "outputs": [],
      "source": [
        "def RHS(Omega_i, lna, gamma=0):\n",
        "    x, y, z, H = Omega_i\n",
        "    #x, y, z = Omega_i\n",
        "    pi = 3*x + 4*y\n",
        "    return [x*(-3 + pi), y*(-4 + pi), z*pi, -0.5*H*pi]\n",
        "    #return [x*(-3 + pi), y*(-4 + pi), z*pi]\n",
        "\n",
        "def EDO(t,Om,H0):\n",
        "    #t,Or,Om,Ol=X\n",
        "    Or=0.0001\n",
        "    Ol=1-Or-Om\n",
        "    #H0 = 70.\n",
        "    y0 = [Om, Or, Ol, H0]\n",
        "    result = odeint(RHS, y0, t)\n",
        "    return result"
      ]
    },
    {
      "cell_type": "code",
      "execution_count": 7,
      "metadata": {
        "id": "9eyIdxXQIukz"
      },
      "outputs": [],
      "source": [
        "#lets generate the cartesian product between the intervals\n",
        "Y0=[]\n",
        "#este ciclo llena la lista fijando un Om y pasando todos los Or\n",
        "for i in O_m:\n",
        "    for j in H_0:\n",
        "        Y0.extend(EDO(t,i,j))\n",
        "Y0=np.array(Y0)\n",
        "\n",
        "X0=[]\n",
        "for Om in O_m:\n",
        "    for H0 in H_0:\n",
        "        for T in t:\n",
        "            X0.append([T,Om,H0])\n",
        "X0=np.array(X0)"
      ]
    },
    {
      "cell_type": "code",
      "execution_count": 8,
      "metadata": {
        "id": "MI4XZKdFIuk1"
      },
      "outputs": [],
      "source": [
        "from sklearn import preprocessing\n",
        "scaler = preprocessing.MinMaxScaler(feature_range = (0,1))\n",
        "Y2 = scaler.fit_transform(Y0)"
      ]
    },
    {
      "cell_type": "code",
      "execution_count": 9,
      "metadata": {
        "colab": {
          "base_uri": "https://localhost:8080/"
        },
        "id": "gC1N_CJLIuk3",
        "outputId": "b6f036d3-a2be-4324-ff78-9a9b5c21001f"
      },
      "outputs": [
        {
          "output_type": "stream",
          "name": "stdout",
          "text": [
            "feactures= \n",
            " [[  0.           0.1         66.        ]\n",
            " [ -0.24489796   0.1         66.        ]\n",
            " [ -0.48979592   0.1         66.        ]\n",
            " ...\n",
            " [-11.51020408   0.5         80.        ]\n",
            " [-11.75510204   0.5         80.        ]\n",
            " [-12.           0.5         80.        ]]\n",
            "\n",
            "\n",
            "labels= \n",
            " [[9.47515373e-02 0.00000000e+00 1.00000000e+00 0.00000000e+00]\n",
            " [1.83608702e-01 1.41110961e-04 9.01997379e-01 1.62358493e-10]\n",
            " [3.22333902e-01 4.33937896e-04 7.48914062e-01 4.77144941e-10]\n",
            " ...\n",
            " [4.20164900e-02 9.58104047e-01 5.58399792e-11 3.78984027e-01]\n",
            " [3.19464665e-02 9.68145182e-01 5.73926563e-11 6.15280156e-01]\n",
            " [2.39153274e-02 9.76153281e-01 5.75109456e-11 1.00000000e+00]]\n"
          ]
        }
      ],
      "source": [
        "#Now, here are the datasets\n",
        "print('feactures= \\n',X0)\n",
        "print('\\n')\n",
        "print('labels= \\n',Y2)"
      ]
    },
    {
      "cell_type": "code",
      "execution_count": 10,
      "metadata": {
        "id": "cg5rKwuTIuk6"
      },
      "outputs": [],
      "source": [
        "split_size = 0.5\n",
        "X_train, Y_train, X_test, Y_test = split(X0, Y2, split_size)"
      ]
    },
    {
      "cell_type": "code",
      "execution_count": 11,
      "metadata": {
        "id": "CpTfwnfVIuk8"
      },
      "outputs": [],
      "source": [
        "SC_DEEP       = np.arange(2, 5+1, 1, dtype=int)                        # Number of deep layers (4)\n",
        "SC_NUM_UNITS  = np.array([50, 100, 150, 200], dtype=int)         # Number of fully conected neurons (3)\n",
        "SC_LEARNING   = np.logspace(-5,-3, endpoint=True, num=3)                      # Learning rates (3)\n",
        "SC_BATCH      = np.arange(4,8+1,4, dtype=int)                                # Batch sizes (2)\n",
        "# SC_ACTIVATION = [f1, f2, f3, f4]                 # Activation function layers (2)\n",
        "\n",
        "BOUNDS = [SC_DEEP,SC_NUM_UNITS,SC_LEARNING,SC_BATCH]\n",
        "DOWN, UP = [], []\n",
        "for i in range(len(BOUNDS)):\n",
        "    DOWN.append(BOUNDS[i][0])\n",
        "    UP.append(BOUNDS[i][-1])\n",
        "\n",
        "DIMS = 4              # boundaries for all dimensions\n",
        "\n",
        "my_callbacks = [tf.keras.callbacks.EarlyStopping(\n",
        "                               monitor='val_loss', mode='min',\n",
        "                               min_delta=4e-7, \n",
        "                               patience=5,\n",
        "                               verbose=1,\n",
        "                            #    baseline=0,\n",
        "                               restore_best_weights=1)\n",
        "#                 keras.callbacks.TensorBoard(\n",
        "#                                log_dir='./logs'),\n",
        "#                 keras.callbacks.ReduceLROnPlateau(\n",
        "#                                monitor='val_loss', factor=0.5,\n",
        "#                                patience=6, min_lr=0,\n",
        "#                                verbose=1)\n",
        "               ] \n",
        "    \n",
        "epochs = 100\n",
        "# epochs = 1"
      ]
    },
    {
      "cell_type": "code",
      "source": [
        "# BOUNDS[1][0]\n",
        "# DOWN, \n",
        "# UP"
      ],
      "metadata": {
        "id": "RkWQH1r1zGly"
      },
      "execution_count": 12,
      "outputs": []
    },
    {
      "cell_type": "code",
      "execution_count": 13,
      "metadata": {
        "id": "5e07dsBBIulB"
      },
      "outputs": [],
      "source": [
        "# Produces train and val splits.\n",
        "X_test, Y_test, X_val, Y_val = split(X_test, Y_test, 0.5)"
      ]
    },
    {
      "cell_type": "code",
      "execution_count": 14,
      "metadata": {
        "id": "gNc-UrBaIulF"
      },
      "outputs": [],
      "source": [
        "def train_evaluate(ga_individual_solution):   \n",
        "    t = time.time()\n",
        "    t_total = 0\n",
        "    \n",
        "    # Decode GA solution to integer for window_size and num_units\n",
        "    deep_layers   = int(ga_individual_solution[0])   \n",
        "    num_units     = int(ga_individual_solution[1])\n",
        "    learning_rate = ga_individual_solution[2]\n",
        "    batch_size    = int(ga_individual_solution[3])    \n",
        "# #     activation_f  = BitArray(ga_individual_solution[4])   # (2)   Solo se consideran las 2 primeras\n",
        "    \n",
        "    print('\\n--------------- Starting trial:', population_size*(max_generations+1)-len(ss), \"---------------\")\n",
        "    print('Deep layers:',deep_layers,', Number of neurons:',num_units,\", Learning rate:\",learning_rate,', Batch size:',batch_size)\n",
        "    \n",
        "    # Train model and predict on validation set\n",
        "    model = tf.keras.Sequential()\n",
        "    model.add(Dense(int(X_train.shape[1])))\n",
        "    \n",
        "    for i in range(deep_layers):        \n",
        "        model.add(Dense(num_units, activation='elu'))\n",
        "#             model.add(keras.layers.Dropout(0.3))\n",
        "    model.add(Dense(4, activation='linear'))\n",
        "    \n",
        "    optimizer = tf.keras.optimizers.Adam(learning_rate=learning_rate, beta_1=0.9, beta_2=0.999, epsilon=1e-3)\n",
        "    model.compile(optimizer=optimizer, loss='mse', metrics=['mean_squared_error'])\n",
        "    # model.compile(optimizer=optimizer, loss='mse')\n",
        "    model.fit(X_train, Y_train, epochs=epochs, validation_data=(X_val, Y_val),\n",
        "              callbacks=my_callbacks, batch_size=batch_size, shuffle=False, verbose=0)\n",
        "    \n",
        "    loss, score = model.evaluate(X_val, Y_val)    \n",
        "    t = time.time()-t\n",
        "    ss.pop(0)\n",
        "    print(\"Loss:\", score, \", Elapsed time:\", t)\n",
        "    print(\"-------------------------------------------------\\n\")\n",
        "#     print(loss, score)\n",
        "\n",
        "    # datos.append([deep_layers, num_units, learning_rate, batch_size loss, score, t])\n",
        "    datos.append([deep_layers, num_units, learning_rate, batch_size, loss, score, t])\n",
        "    \n",
        "    return loss,"
      ]
    },
    {
      "cell_type": "code",
      "execution_count": 15,
      "metadata": {
        "colab": {
          "base_uri": "https://localhost:8080/"
        },
        "id": "Bbb5Ka2WIulH",
        "outputId": "2ac69637-b808-4341-9c04-ce076113109d"
      },
      "outputs": [
        {
          "output_type": "execute_result",
          "data": {
            "text/plain": [
              "((15375, 3), (7687, 3), (7688, 3))"
            ]
          },
          "metadata": {},
          "execution_count": 15
        }
      ],
      "source": [
        "X_train.shape, X_test.shape, X_val.shape"
      ]
    },
    {
      "cell_type": "code",
      "execution_count": 16,
      "metadata": {
        "id": "UfeWOrpHIulJ"
      },
      "outputs": [],
      "source": [
        "from deap import tools\n",
        "from deap import algorithms\n",
        "\n",
        "def eaSimpleWithElitism(population, toolbox, cxpb, mutpb, ngen, stats=None,\n",
        "             halloffame=None, verbose=__debug__):\n",
        "    \"\"\"This algorithm is similar to DEAP eaSimple() algorithm, with the modification that\n",
        "    halloffame is used to implement an elitism mechanism. The individuals contained in the\n",
        "    halloffame are directly injected into the next generation and are not subject to the\n",
        "    genetic operators of selection, crossover and mutation.\n",
        "    \"\"\"\n",
        "    logbook = tools.Logbook()\n",
        "    logbook.header = ['gen', 'nevals'] + (stats.fields if stats else [])\n",
        "\n",
        "    # Evaluate the individuals with an invalid fitness\n",
        "    invalid_ind = [ind for ind in population if not ind.fitness.valid]\n",
        "    fitnesses = toolbox.map(toolbox.evaluate, invalid_ind)\n",
        "    for ind, fit in zip(invalid_ind, fitnesses):\n",
        "        ind.fitness.values = fit\n",
        "\n",
        "    if halloffame is None:\n",
        "        raise ValueError(\"halloffame parameter must not be empty!\")\n",
        "\n",
        "    halloffame.update(population)\n",
        "    hof_size = len(halloffame.items) if halloffame.items else 0\n",
        "\n",
        "    record = stats.compile(population) if stats else {}\n",
        "    logbook.record(gen=0, nevals=len(invalid_ind), **record)\n",
        "    if verbose:\n",
        "        print(logbook.stream)\n",
        "\n",
        "    # Begin the generational process\n",
        "    for gen in range(1, ngen + 1):\n",
        "\n",
        "        # Select the next generation individuals\n",
        "        offspring = toolbox.select(population, len(population) - hof_size)\n",
        "\n",
        "        # Vary the pool of individuals\n",
        "        offspring = algorithms.varAnd(offspring, toolbox, cxpb, mutpb)\n",
        "\n",
        "        # Evaluate the individuals with an invalid fitness\n",
        "        invalid_ind = [ind for ind in offspring if not ind.fitness.valid]\n",
        "        fitnesses = toolbox.map(toolbox.evaluate, invalid_ind)\n",
        "        for ind, fit in zip(invalid_ind, fitnesses):\n",
        "            ind.fitness.values = fit\n",
        "\n",
        "        # add the best back to population:\n",
        "        offspring.extend(halloffame.items)\n",
        "\n",
        "        # Update the hall of fame with the generated individuals\n",
        "        halloffame.update(offspring)\n",
        "\n",
        "        # Replace the current population by the offspring\n",
        "        population[:] = offspring\n",
        "\n",
        "        # Append the current generation statistics to the logbook\n",
        "        record = stats.compile(population) if stats else {}\n",
        "        logbook.record(gen=gen, nevals=len(invalid_ind), **record)\n",
        "        if verbose:\n",
        "            print(logbook.stream)\n",
        "\n",
        "    return population, logbook"
      ]
    },
    {
      "cell_type": "code",
      "execution_count": 17,
      "metadata": {
        "id": "Ye9sghsFIulM"
      },
      "outputs": [],
      "source": [
        "import random\n",
        "import math\n",
        "\n",
        "def geneticAlgorithm_with_elitism(population_size, max_generations, gene_length, k):\n",
        "    \n",
        "    # Genetic Algorithm constants:\n",
        "    P_CROSSOVER = 0.9        # probability for crossover\n",
        "    P_MUTATION = 0.3         # probability for mutating an individual\n",
        "    HALL_OF_FAME_SIZE = 1    # Best individuals that pass to the other generation\n",
        "    CROWDING_FACTOR = 20.0   # crowding factor for crossover and mutation\n",
        "    \n",
        "    # set the random seed:\n",
        "    toolbox = base.Toolbox()\n",
        "\n",
        "    # As we are trying to minimize the RMSE score, that's why using -1.0. \n",
        "    # In case, when you want to maximize accuracy for instance, use 1.0\n",
        "    creator.create('FitnessMin', base.Fitness, weights = [-1.0])\n",
        "    creator.create('Individual', list , fitness = creator.FitnessMin)\n",
        "\n",
        "    # helper function for creating random real numbers uniformly distributed within a given range [low, up]\n",
        "    def randomInt(BOUNDS, DIMS):\n",
        "        temp = []\n",
        "        for i in range(DIMS):\n",
        "            temp.append(random.choices(BOUNDS[i])[0])\n",
        "        return temp\n",
        "\n",
        "    # create an operator that randomly returns a float in the desired range and dimension:\n",
        "    toolbox.register(\"attrInt\", randomInt, BOUNDS, DIMS)\n",
        "\n",
        "    # create the individual operator to fill up an Individual instance:\n",
        "    toolbox.register('individual', tools.initIterate, creator.Individual, toolbox.attrInt)\n",
        "\n",
        "    # create the population operator to generate a list of individuals:\n",
        "    toolbox.register('population', tools.initRepeat, list , toolbox.individual)\n",
        "\n",
        "    # genetic operators:\n",
        "    toolbox.register('evaluate', train_evaluate)\n",
        "    toolbox.register('select', tools.selTournament, tournsize = 2)\n",
        "    # toolbox.register('mutate', tools.mutFlipBit, indpb = 0.11)\n",
        "    toolbox.register(\"mutate\", tools.mutPolynomialBounded, low=DOWN, up=UP, eta=CROWDING_FACTOR, indpb=1.0/DIMS)\n",
        "    toolbox.register(\"mate\", tools.cxSimulatedBinaryBounded, low=DOWN, up=UP, eta=CROWDING_FACTOR)\n",
        "    # toolbox.register('mate', tools.cxUniform, indpb = 0.5)\n",
        "    \n",
        "    # create initial population (generation 0):\n",
        "    population = toolbox.population(n=population_size)\n",
        "\n",
        "    # prepare the statistics object:\n",
        "    stats = tools.Statistics(lambda ind: ind.fitness.values)\n",
        "    stats.register(\"min\", np.min)\n",
        "    stats.register(\"avg\", np.mean)\n",
        "    stats.register(\"max\", np.max)\n",
        "\n",
        "    # define the hall-of-fame object:\n",
        "    hof = tools.HallOfFame(HALL_OF_FAME_SIZE)\n",
        "\n",
        "    # Genetic Algorithm flow with elitism:\n",
        "    population, logbook = eaSimpleWithElitism(population, toolbox, cxpb=P_CROSSOVER, mutpb=P_MUTATION,\n",
        "                                              ngen=max_generations, stats=stats, halloffame=hof, verbose=True)\n",
        "\n",
        "    # print info for best solution found:\n",
        "    best = hof.items[0]\n",
        "    print(\"-- Best Individual = \", best)\n",
        "    print(\"-- Best Fitness = \", best.fitness.values[0])\n",
        "\n",
        "    # extract statistics:\n",
        "    minFitnessValues, meanFitnessValues, maxFitnessValues = logbook.select(\"min\", \"avg\", \"max\")\n",
        "\n",
        "    # plot statistics:\n",
        "    sns.set_style(\"whitegrid\")\n",
        "    plt.plot(minFitnessValues, color='blue', label=\"Min\")\n",
        "    plt.plot(meanFitnessValues, color='green', label=\"Mean\")\n",
        "    plt.plot(maxFitnessValues, color='red', label=\"Max\")\n",
        "    plt.xlabel('Generation'); plt.ylabel('Max / Min / Average Fitness')\n",
        "    plt.legend()\n",
        "    plt.title('Max, Min and Average fitness over Generations')\n",
        "    plt.show()\n",
        "    \n",
        "    best_population = tools.selBest(population,k = k)\n",
        "    return best_population"
      ]
    },
    {
      "cell_type": "code",
      "execution_count": 18,
      "metadata": {
        "scrolled": true,
        "colab": {
          "base_uri": "https://localhost:8080/",
          "height": 1000
        },
        "id": "0ZV3VdbnIulP",
        "outputId": "1f9337cf-205d-469d-9357-c23ae90d221a"
      },
      "outputs": [
        {
          "output_type": "stream",
          "name": "stdout",
          "text": [
            "\n",
            "--------------- Starting trial: 1 ---------------\n",
            "Deep layers: 3 , Number of neurons: 150 , Learning rate: 0.0001 , Batch size: 8\n",
            "241/241 [==============================] - 1s 2ms/step - loss: 1.4904e-04 - mean_squared_error: 1.4904e-04\n",
            "Loss: 0.00014904465933796018 , Elapsed time: 503.5942060947418\n",
            "-------------------------------------------------\n",
            "\n",
            "\n",
            "--------------- Starting trial: 2 ---------------\n",
            "Deep layers: 5 , Number of neurons: 200 , Learning rate: 0.001 , Batch size: 8\n",
            "Restoring model weights from the end of the best epoch: 16.\n",
            "Epoch 21: early stopping\n",
            "241/241 [==============================] - 1s 2ms/step - loss: 0.0026 - mean_squared_error: 0.0026\n",
            "Loss: 0.0026349066756665707 , Elapsed time: 133.89696884155273\n",
            "-------------------------------------------------\n",
            "\n",
            "\n",
            "--------------- Starting trial: 3 ---------------\n",
            "Deep layers: 4 , Number of neurons: 50 , Learning rate: 1e-05 , Batch size: 4\n",
            "241/241 [==============================] - 1s 2ms/step - loss: 0.0021 - mean_squared_error: 0.0021\n",
            "Loss: 0.0020840398501604795 , Elapsed time: 863.4078118801117\n",
            "-------------------------------------------------\n",
            "\n",
            "\n",
            "--------------- Starting trial: 4 ---------------\n",
            "Deep layers: 4 , Number of neurons: 50 , Learning rate: 0.0001 , Batch size: 4\n",
            "241/241 [==============================] - 1s 3ms/step - loss: 5.0291e-05 - mean_squared_error: 5.0291e-05\n",
            "Loss: 5.029121894040145e-05 , Elapsed time: 860.3396227359772\n",
            "-------------------------------------------------\n",
            "\n",
            "gen\tnevals\tmin        \tavg       \tmax       \n",
            "0  \t4     \t5.02912e-05\t0.00122957\t0.00263491\n",
            "\n",
            "--------------- Starting trial: 5 ---------------\n",
            "Deep layers: 4 , Number of neurons: 150 , Learning rate: 0.0001 , Batch size: 8\n",
            "241/241 [==============================] - 1s 3ms/step - loss: 7.9099e-05 - mean_squared_error: 7.9099e-05\n",
            "Loss: 7.909887790447101e-05 , Elapsed time: 623.6097583770752\n",
            "-------------------------------------------------\n",
            "\n",
            "\n",
            "--------------- Starting trial: 6 ---------------\n",
            "Deep layers: 2 , Number of neurons: 50 , Learning rate: 0.0001 , Batch size: 4\n",
            "241/241 [==============================] - 1s 3ms/step - loss: 0.0011 - mean_squared_error: 0.0011\n",
            "Loss: 0.0010892855934798717 , Elapsed time: 803.5793855190277\n",
            "-------------------------------------------------\n",
            "\n",
            "1  \t2     \t5.02912e-05\t0.000317242\t0.00108929\n",
            "2  \t0     \t5.02912e-05\t5.02912e-05\t5.02912e-05\n",
            "\n",
            "--------------- Starting trial: 7 ---------------\n",
            "Deep layers: 4 , Number of neurons: 50 , Learning rate: 0.0001 , Batch size: 4\n",
            "241/241 [==============================] - 1s 2ms/step - loss: 1.2233e-04 - mean_squared_error: 1.2233e-04\n",
            "Loss: 0.0001223312137881294 , Elapsed time: 863.5055487155914\n",
            "-------------------------------------------------\n",
            "\n",
            "\n",
            "--------------- Starting trial: 8 ---------------\n",
            "Deep layers: 4 , Number of neurons: 50 , Learning rate: 0.0001 , Batch size: 4\n",
            "241/241 [==============================] - 1s 3ms/step - loss: 1.8297e-04 - mean_squared_error: 1.8297e-04\n",
            "Loss: 0.0001829742977861315 , Elapsed time: 847.1385245323181\n",
            "-------------------------------------------------\n",
            "\n",
            "3  \t2     \t5.02912e-05\t0.000101472\t0.000182974\n",
            "\n",
            "--------------- Starting trial: 9 ---------------\n",
            "Deep layers: 4 , Number of neurons: 50 , Learning rate: 0.0001 , Batch size: 4\n",
            "241/241 [==============================] - 1s 3ms/step - loss: 9.1885e-05 - mean_squared_error: 9.1885e-05\n",
            "Loss: 9.18847435968928e-05 , Elapsed time: 862.1716940402985\n",
            "-------------------------------------------------\n",
            "\n",
            "\n",
            "--------------- Starting trial: 10 ---------------\n",
            "Deep layers: 4 , Number of neurons: 50 , Learning rate: 0.0001 , Batch size: 4\n",
            "241/241 [==============================] - 1s 2ms/step - loss: 4.4153e-05 - mean_squared_error: 4.4153e-05\n",
            "Loss: 4.415338844410144e-05 , Elapsed time: 855.0113489627838\n",
            "-------------------------------------------------\n",
            "\n",
            "\n",
            "--------------- Starting trial: 11 ---------------\n",
            "Deep layers: 4 , Number of neurons: 50 , Learning rate: 0.0001 , Batch size: 4\n",
            "241/241 [==============================] - 1s 3ms/step - loss: 1.2393e-04 - mean_squared_error: 1.2393e-04\n",
            "Loss: 0.00012393234646879137 , Elapsed time: 863.4129157066345\n",
            "-------------------------------------------------\n",
            "\n",
            "4  \t3     \t4.41534e-05\t7.75654e-05\t0.000123932\n",
            "-- Best Individual =  [4, 50, 0.0001, 4]\n",
            "-- Best Fitness =  5.029121894040145e-05\n"
          ]
        },
        {
          "output_type": "display_data",
          "data": {
            "text/plain": [
              "<Figure size 432x288 with 1 Axes>"
            ],
            "image/png": "[encoded data removed]"
          },
          "metadata": {}
        },
        {
          "output_type": "stream",
          "name": "stdout",
          "text": [
            "Total elapsed time: 134.66722090244292 minutes\n"
          ]
        }
      ],
      "source": [
        "population_size = 4   # max of individuals per generation\n",
        "max_generations = 4   # number of generations\n",
        "gene_length = 4       # lenght of the gene, depends on how many hyperparameters are tested \n",
        "\n",
        "k = 1;                # num. of finalist individuals\n",
        "\n",
        "if __name__ == \"__main__\":\n",
        "    t = time.time(); \n",
        "    datos = [];\n",
        "    ss = [i for i in range(1,population_size*(max_generations+1))]\n",
        "    best_population = geneticAlgorithm_with_elitism(population_size, max_generations, gene_length, k)\n",
        "    print(\"Total elapsed time:\", (time.time()-t)/60, \"minutes\")"
      ]
    },
    {
      "cell_type": "code",
      "execution_count": 19,
      "metadata": {
        "id": "E9J0x5YzIulR",
        "colab": {
          "base_uri": "https://localhost:8080/"
        },
        "outputId": "8c7572f9-1fc1-4b5a-bb5d-1dbf69ba4c68"
      },
      "outputs": [
        {
          "output_type": "stream",
          "name": "stdout",
          "text": [
            "k= 1 \n",
            "Deep layers: 4 , Number of neurons: 50 , Learning rate: 0.0001 , Batch size: 4\n"
          ]
        }
      ],
      "source": [
        "best_deep_layers   = []\n",
        "best_num_units     = []\n",
        "best_learning_rate = []\n",
        "best_batch_size    = []\n",
        "# best_activation_f  = []\n",
        "# best_f_names       = []\n",
        "\n",
        "t = 0\n",
        "\n",
        "for bi in best_population:\n",
        "    deep_layers   = bi[0]  \n",
        "    num_units     = bi[1]\n",
        "    learning_rate = bi[2]   \n",
        "    batch_size    = bi[3]    \n",
        "#     activation_f  = bi[4]  \n",
        "    t += 1 \n",
        "    \n",
        "    best_deep_layers.append(deep_layers)\n",
        "    best_num_units.append(num_units)\n",
        "    best_learning_rate.append(learning_rate)\n",
        "    best_batch_size.append(batch_size)\n",
        "#     best_activation_f.append(activation_f)\n",
        "#     best_f_names.append(activation_f)\n",
        "    \n",
        "    print('k=',t,'\\nDeep layers:', best_deep_layers[-1], ', Number of neurons:', best_num_units[-1], ', Learning rate:', best_learning_rate[-1],', Batch size:', best_batch_size[-1])\n",
        "    # print('k=',t,'\\nDeep layers:', best_deep_layers[-1], ', Number of neurons:', best_num_units[-1], ', Learning rate:', best_learning_rate[-1])"
      ]
    },
    {
      "cell_type": "code",
      "execution_count": 20,
      "metadata": {
        "id": "vgMBb6ZDIulS",
        "colab": {
          "base_uri": "https://localhost:8080/",
          "height": 394
        },
        "outputId": "b90122a7-ad1a-439e-eece-b63dc8e219df"
      },
      "outputs": [
        {
          "output_type": "execute_result",
          "data": {
            "text/plain": [
              "    Deep layers  Num units  Learning rate  Batch size      Loss     Score  \\\n",
              "0             4         50        0.00010           4  0.000044  0.000044   \n",
              "1             4         50        0.00010           4  0.000050  0.000050   \n",
              "2             4        150        0.00010           8  0.000079  0.000079   \n",
              "3             4         50        0.00010           4  0.000092  0.000092   \n",
              "4             4         50        0.00010           4  0.000122  0.000122   \n",
              "5             4         50        0.00010           4  0.000124  0.000124   \n",
              "6             3        150        0.00010           8  0.000149  0.000149   \n",
              "7             4         50        0.00010           4  0.000183  0.000183   \n",
              "8             2         50        0.00010           4  0.001089  0.001089   \n",
              "9             4         50        0.00001           4  0.002084  0.002084   \n",
              "10            5        200        0.00100           8  0.002635  0.002635   \n",
              "\n",
              "    Elapsed time  \n",
              "0     855.011349  \n",
              "1     860.339623  \n",
              "2     623.609758  \n",
              "3     862.171694  \n",
              "4     863.505549  \n",
              "5     863.412916  \n",
              "6     503.594206  \n",
              "7     847.138525  \n",
              "8     803.579386  \n",
              "9     863.407812  \n",
              "10    133.896969  "
            ],
            "text/html": [
              "\n",
              "  <div id=\"df-7f7cea36-461d-48a5-9862-5a4c1fb54bdd\">\n",
              "    <div class=\"colab-df-container\">\n",
              "      <div>\n",
              "<style scoped>\n",
              "    .dataframe tbody tr th:only-of-type {\n",
              "        vertical-align: middle;\n",
              "    }\n",
              "\n",
              "    .dataframe tbody tr th {\n",
              "        vertical-align: top;\n",
              "    }\n",
              "\n",
              "    .dataframe thead th {\n",
              "        text-align: right;\n",
              "    }\n",
              "</style>\n",
              "<table border=\"1\" class=\"dataframe\">\n",
              "  <thead>\n",
              "    <tr style=\"text-align: right;\">\n",
              "      <th></th>\n",
              "      <th>Deep layers</th>\n",
              "      <th>Num units</th>\n",
              "      <th>Learning rate</th>\n",
              "      <th>Batch size</th>\n",
              "      <th>Loss</th>\n",
              "      <th>Score</th>\n",
              "      <th>Elapsed time</th>\n",
              "    </tr>\n",
              "  </thead>\n",
              "  <tbody>\n",
              "    <tr>\n",
              "      <th>0</th>\n",
              "      <td>4</td>\n",
              "      <td>50</td>\n",
              "      <td>0.00010</td>\n",
              "      <td>4</td>\n",
              "      <td>0.000044</td>\n",
              "      <td>0.000044</td>\n",
              "      <td>855.011349</td>\n",
              "    </tr>\n",
              "    <tr>\n",
              "      <th>1</th>\n",
              "      <td>4</td>\n",
              "      <td>50</td>\n",
              "      <td>0.00010</td>\n",
              "      <td>4</td>\n",
              "      <td>0.000050</td>\n",
              "      <td>0.000050</td>\n",
              "      <td>860.339623</td>\n",
              "    </tr>\n",
              "    <tr>\n",
              "      <th>2</th>\n",
              "      <td>4</td>\n",
              "      <td>150</td>\n",
              "      <td>0.00010</td>\n",
              "      <td>8</td>\n",
              "      <td>0.000079</td>\n",
              "      <td>0.000079</td>\n",
              "      <td>623.609758</td>\n",
              "    </tr>\n",
              "    <tr>\n",
              "      <th>3</th>\n",
              "      <td>4</td>\n",
              "      <td>50</td>\n",
              "      <td>0.00010</td>\n",
              "      <td>4</td>\n",
              "      <td>0.000092</td>\n",
              "      <td>0.000092</td>\n",
              "      <td>862.171694</td>\n",
              "    </tr>\n",
              "    <tr>\n",
              "      <th>4</th>\n",
              "      <td>4</td>\n",
              "      <td>50</td>\n",
              "      <td>0.00010</td>\n",
              "      <td>4</td>\n",
              "      <td>0.000122</td>\n",
              "      <td>0.000122</td>\n",
              "      <td>863.505549</td>\n",
              "    </tr>\n",
              "    <tr>\n",
              "      <th>5</th>\n",
              "      <td>4</td>\n",
              "      <td>50</td>\n",
              "      <td>0.00010</td>\n",
              "      <td>4</td>\n",
              "      <td>0.000124</td>\n",
              "      <td>0.000124</td>\n",
              "      <td>863.412916</td>\n",
              "    </tr>\n",
              "    <tr>\n",
              "      <th>6</th>\n",
              "      <td>3</td>\n",
              "      <td>150</td>\n",
              "      <td>0.00010</td>\n",
              "      <td>8</td>\n",
              "      <td>0.000149</td>\n",
              "      <td>0.000149</td>\n",
              "      <td>503.594206</td>\n",
              "    </tr>\n",
              "    <tr>\n",
              "      <th>7</th>\n",
              "      <td>4</td>\n",
              "      <td>50</td>\n",
              "      <td>0.00010</td>\n",
              "      <td>4</td>\n",
              "      <td>0.000183</td>\n",
              "      <td>0.000183</td>\n",
              "      <td>847.138525</td>\n",
              "    </tr>\n",
              "    <tr>\n",
              "      <th>8</th>\n",
              "      <td>2</td>\n",
              "      <td>50</td>\n",
              "      <td>0.00010</td>\n",
              "      <td>4</td>\n",
              "      <td>0.001089</td>\n",
              "      <td>0.001089</td>\n",
              "      <td>803.579386</td>\n",
              "    </tr>\n",
              "    <tr>\n",
              "      <th>9</th>\n",
              "      <td>4</td>\n",
              "      <td>50</td>\n",
              "      <td>0.00001</td>\n",
              "      <td>4</td>\n",
              "      <td>0.002084</td>\n",
              "      <td>0.002084</td>\n",
              "      <td>863.407812</td>\n",
              "    </tr>\n",
              "    <tr>\n",
              "      <th>10</th>\n",
              "      <td>5</td>\n",
              "      <td>200</td>\n",
              "      <td>0.00100</td>\n",
              "      <td>8</td>\n",
              "      <td>0.002635</td>\n",
              "      <td>0.002635</td>\n",
              "      <td>133.896969</td>\n",
              "    </tr>\n",
              "  </tbody>\n",
              "</table>\n",
              "</div>\n",
              "      <button class=\"colab-df-convert\" onclick=\"convertToInteractive('df-7f7cea36-461d-48a5-9862-5a4c1fb54bdd')\"\n",
              "              title=\"Convert this dataframe to an interactive table.\"\n",
              "              style=\"display:none;\">\n",
              "        \n",
              "  <svg xmlns=\"http://www.w3.org/2000/svg\" height=\"24px\"viewBox=\"0 0 24 24\"\n",
              "       width=\"24px\">\n",
              "    <path d=\"M0 0h24v24H0V0z\" fill=\"none\"/>\n",
              "    <path d=\"M18.56 5.44l.94 2.06.94-2.06 2.06-.94-2.06-.94-.94-2.06-.94 2.06-2.06.94zm-11 1L8.5 8.5l.94-2.06 2.06-.94-2.06-.94L8.5 2.5l-.94 2.06-2.06.94zm10 10l.94 2.06.94-2.06 2.06-.94-2.06-.94-.94-2.06-.94 2.06-2.06.94z\"/><path d=\"M17.41 7.96l-1.37-1.37c-.4-.4-.92-.59-1.43-.59-.52 0-1.04.2-1.43.59L10.3 9.45l-7.72 7.72c-.78.78-.78 2.05 0 2.83L4 21.41c.39.39.9.59 1.41.59.51 0 1.02-.2 1.41-.59l7.78-7.78 2.81-2.81c.8-.78.8-2.07 0-2.86zM5.41 20L4 18.59l7.72-7.72 1.47 1.35L5.41 20z\"/>\n",
              "  </svg>\n",
              "      </button>\n",
              "      \n",
              "  <style>\n",
              "    .colab-df-container {\n",
              "      display:flex;\n",
              "      flex-wrap:wrap;\n",
              "      gap: 12px;\n",
              "    }\n",
              "\n",
              "    .colab-df-convert {\n",
              "      background-color: #E8F0FE;\n",
              "      border: none;\n",
              "      border-radius: 50%;\n",
              "      cursor: pointer;\n",
              "      display: none;\n",
              "      fill: #1967D2;\n",
              "      height: 32px;\n",
              "      padding: 0 0 0 0;\n",
              "      width: 32px;\n",
              "    }\n",
              "\n",
              "    .colab-df-convert:hover {\n",
              "      background-color: #E2EBFA;\n",
              "      box-shadow: 0px 1px 2px rgba(60, 64, 67, 0.3), 0px 1px 3px 1px rgba(60, 64, 67, 0.15);\n",
              "      fill: #174EA6;\n",
              "    }\n",
              "\n",
              "    [theme=dark] .colab-df-convert {\n",
              "      background-color: #3B4455;\n",
              "      fill: #D2E3FC;\n",
              "    }\n",
              "\n",
              "    [theme=dark] .colab-df-convert:hover {\n",
              "      background-color: #434B5C;\n",
              "      box-shadow: 0px 1px 3px 1px rgba(0, 0, 0, 0.15);\n",
              "      filter: drop-shadow(0px 1px 2px rgba(0, 0, 0, 0.3));\n",
              "      fill: #FFFFFF;\n",
              "    }\n",
              "  </style>\n",
              "\n",
              "      <script>\n",
              "        const buttonEl =\n",
              "          document.querySelector('#df-7f7cea36-461d-48a5-9862-5a4c1fb54bdd button.colab-df-convert');\n",
              "        buttonEl.style.display =\n",
              "          google.colab.kernel.accessAllowed ? 'block' : 'none';\n",
              "\n",
              "        async function convertToInteractive(key) {\n",
              "          const element = document.querySelector('#df-7f7cea36-461d-48a5-9862-5a4c1fb54bdd');\n",
              "          const dataTable =\n",
              "            await google.colab.kernel.invokeFunction('convertToInteractive',\n",
              "                                                     [key], {});\n",
              "          if (!dataTable) return;\n",
              "\n",
              "          const docLinkHtml = 'Like what you see? Visit the ' +\n",
              "            '<a target=\"_blank\" href=https://colab.research.google.com/notebooks/data_table.ipynb>data table notebook</a>'\n",
              "            + ' to learn more about interactive tables.';\n",
              "          element.innerHTML = '';\n",
              "          dataTable['output_type'] = 'display_data';\n",
              "          await google.colab.output.renderOutput(dataTable, element);\n",
              "          const docLink = document.createElement('div');\n",
              "          docLink.innerHTML = docLinkHtml;\n",
              "          element.appendChild(docLink);\n",
              "        }\n",
              "      </script>\n",
              "    </div>\n",
              "  </div>\n",
              "  "
            ]
          },
          "metadata": {},
          "execution_count": 20
        }
      ],
      "source": [
        "filename = \"historial_genetic_ecsdiff.txt\"\n",
        "df = pd.DataFrame(datos, columns = [\"Deep layers\", \"Num units\", \"Learning rate\", \"Batch size\", \"Loss\", \"Score\", \"Elapsed time\"])\n",
        "# df = pd.DataFrame(datos, columns = [\"Deep layers\", \"Num units\", \"Learning rate\", \"Loss\", \"Score\", \"Elapsed time\"])\n",
        "\n",
        "df.sort_values(by=[\"Loss\", \"Elapsed time\"], ascending=[True, True], ignore_index=True, inplace=True)\n",
        "\n",
        "df.to_csv(filename, header=True, index=False, sep='\\t', mode='w') # a=append, w=overwrite\n",
        "df.head(50)"
      ]
    },
    {
      "cell_type": "code",
      "execution_count": 21,
      "metadata": {
        "id": "NCaTIHYJIulT",
        "colab": {
          "base_uri": "https://localhost:8080/"
        },
        "outputId": "d51d90f2-c885-4b00-b495-f9ac18f3f692"
      },
      "outputs": [
        {
          "output_type": "stream",
          "name": "stdout",
          "text": [
            "Elapsed time 134.661 minutes\n"
          ]
        }
      ],
      "source": [
        "total_time = float(np.sum(df[[\"Elapsed time\"]])/60)\n",
        "\n",
        "print(\"Elapsed time {:.3f} minutes\".format(total_time))"
      ]
    },
    {
      "cell_type": "code",
      "execution_count": 21,
      "metadata": {
        "id": "qh947Ib9IulW"
      },
      "outputs": [],
      "source": [
        ""
      ]
    }
  ],
  "metadata": {
    "kernelspec": {
      "display_name": "Python 3",
      "language": "python",
      "name": "python3"
    },
    "language_info": {
      "codemirror_mode": {
        "name": "ipython",
        "version": 3
      },
      "file_extension": ".py",
      "mimetype": "text/x-python",
      "name": "python",
      "nbconvert_exporter": "python",
      "pygments_lexer": "ipython3",
      "version": "3.8.10"
    },
    "colab": {
      "name": "genetic_hyp_ecs-diff.ipynb",
      "provenance": []
    }
  },
  "nbformat": 4,
  "nbformat_minor": 0
}